{
 "cells": [
  {
   "cell_type": "code",
   "id": "initial_id",
   "metadata": {
    "collapsed": true,
    "ExecuteTime": {
     "end_time": "2025-10-26T12:04:35.501110Z",
     "start_time": "2025-10-26T12:04:35.341438Z"
    }
   },
   "source": "import numpy as np",
   "outputs": [],
   "execution_count": 1
  },
  {
   "metadata": {
    "ExecuteTime": {
     "end_time": "2025-10-26T12:18:45.822540Z",
     "start_time": "2025-10-26T12:18:45.807695Z"
    }
   },
   "cell_type": "code",
   "source": [
    "def lu_method(a_ : np.ndarray[np.ndarray], b_ : np.ndarray, show_annotation : bool = False) -> np.ndarray:\n",
    "    a_ = np.array(a_, float)\n",
    "    b_ = np.array(b_, float)\n",
    "    \n",
    "    if a_.shape[0] != a_.shape[1]:\n",
    "        raise ValueError(\"Matrix a must be square\")\n",
    "    \n",
    "    if a_.shape[0] != b_.shape[0]:\n",
    "        raise ValueError(\"The dimensions of the two arrays must match\")\n",
    "\n",
    "    for k in range(1, a_.shape[0] + 1):\n",
    "        minor_det = np.linalg.det(a_[:k, :k])\n",
    "        if abs(minor_det) < 1e-13:\n",
    "            raise ValueError(f\"Leading principal minor #{k} is zero — LU decomposition without pivoting not possible.\")\n",
    "    \n",
    "    n = len(b_)\n",
    "    a = np.zeros((n, n + 1), dtype=float)\n",
    "    a[:, :-1] = a_\n",
    "    a[:, -1] = b_\n",
    "    \n",
    "    if show_annotation:\n",
    "        print(\"System:\\n\", a_, b_, \"\\n\")\n",
    "        \n",
    "    b = np.zeros((n, n), dtype=float)\n",
    "    c = np.zeros((n, n + 1), dtype=float)\n",
    "    \n",
    "    b[:, 0] = a[:,0]\n",
    "    c[0, :] = a[0, :] / b[0, 0]\n",
    "    \n",
    "    for i in range(1, n):\n",
    "        for j in range(1, i + 1):\n",
    "            b[i, j] = a[i, j] - np.sum([b[i, k] * c[k, j] for k in range(j)])\n",
    "        \n",
    "        c[i, i] = 1\n",
    "        for j in range(i + 1, n + 1):\n",
    "            c[i, j] = (a[i, j] - np.sum([b[i, k] * c[k, j] for k in range(j)])) / b[i, i]\n",
    "            \n",
    "    if show_annotation:\n",
    "        print(\"B: \", b)\n",
    "        print(\"\\nC: \", c)\n",
    "        \n",
    "    y = np.zeros(n, dtype=float)\n",
    "    y[0] = b_[0] / b[0, 0]\n",
    "    \n",
    "    for i in range(1, n):\n",
    "        y[i] = (b_[i] - np.sum(b[i, :i] * y[:i])) / b[i, i]\n",
    "        \n",
    "    x = np.zeros(n, dtype=float)\n",
    "    x[n - 1] = y[n - 1]\n",
    "    for i in range(n - 2, -1, -1):\n",
    "        x[i] = y[i] - np.sum(c[i, i+1:-1] * x[i + 1:])\n",
    "        \n",
    "    if show_annotation:\n",
    "        print(\"x: \", x)\n",
    "    \n",
    "    return x"
   ],
   "id": "523ed9fbd1ddc592",
   "outputs": [],
   "execution_count": 15
  },
  {
   "metadata": {
    "ExecuteTime": {
     "end_time": "2025-10-26T12:21:39.740782Z",
     "start_time": "2025-10-26T12:21:39.729218Z"
    }
   },
   "cell_type": "code",
   "source": [
    "a = np.array([[3,1,-1,2], [-5,1,3,-4], [2,0,1,-1], [1,-5,3,-3]])\n",
    "b = np.array([6,-12,1,3])\n",
    "\n",
    "x = lu_method(a, b, show_annotation=True)\n",
    "\n",
    "b_ = a @ x\n",
    "max_error = np.max(np.abs(b - b_))\n",
    "print(\"max error: \", max_error)"
   ],
   "id": "e1526c38f9ef449b",
   "outputs": [
    {
     "name": "stdout",
     "output_type": "stream",
     "text": [
      "System:\n",
      " [[ 3.  1. -1.  2.]\n",
      " [-5.  1.  3. -4.]\n",
      " [ 2.  0.  1. -1.]\n",
      " [ 1. -5.  3. -3.]] [  6. -12.   1.   3.] \n",
      "\n",
      "B:  [[ 3.          0.          0.          0.        ]\n",
      " [-5.          2.66666667  0.          0.        ]\n",
      " [ 2.         -0.66666667  2.          0.        ]\n",
      " [ 1.         -5.33333333  6.          2.5       ]]\n",
      "\n",
      "C:  [[ 1.          0.33333333 -0.33333333  0.66666667  2.        ]\n",
      " [ 0.          1.          0.5        -0.25       -0.75      ]\n",
      " [ 0.          0.          1.         -1.25       -1.75      ]\n",
      " [ 0.          0.          0.          1.          3.        ]]\n",
      "x:  [ 1. -1.  2.  3.]\n",
      "max error:  8.881784197001252e-16\n"
     ]
    }
   ],
   "execution_count": 17
  },
  {
   "metadata": {
    "ExecuteTime": {
     "end_time": "2025-10-26T12:31:03.976423Z",
     "start_time": "2025-10-26T12:28:22.275747Z"
    }
   },
   "cell_type": "code",
   "source": [
    "def return_max_error(a, b):\n",
    "    x = lu_method(a, b)\n",
    "    b_ = a @ x\n",
    "    max_error = np.max(np.abs(b - b_))\n",
    "    return max_error\n",
    "\n",
    "\n",
    "a2 = np.array([[4, 2],\n",
    "               [2, 3]])\n",
    "b2 = np.array([6, 8])\n",
    "\n",
    "a3 = np.array([[6, 2, 1],\n",
    "               [2, 5, 2],\n",
    "               [1, 2, 4]])\n",
    "b3 = np.array([9, 10, 7])\n",
    "\n",
    "a4 = np.array([[10, 2, 3, 1],\n",
    "               [2, 8, 1, 0],\n",
    "               [3, 1, 9, 4],\n",
    "               [1, 0, 4, 7]])\n",
    "b4 = np.array([12, 9, 11, 8])\n",
    "\n",
    "a5 = np.array([[9, 1, 2, 3, 1],\n",
    "               [1, 7, 1, 2, 0],\n",
    "               [2, 1, 8, 1, 2],\n",
    "               [3, 2, 1, 10, 3],\n",
    "               [1, 0, 2, 3, 6]])\n",
    "b5 = np.array([17, 13, 15, 18, 10])\n",
    "\n",
    "a6 = np.array([[12, 3, 2, 1, 0, 2],\n",
    "               [3, 9, 1, 0, 2, 1],\n",
    "               [2, 1, 11, 4, 1, 2],\n",
    "               [1, 0, 4, 10, 2, 3],\n",
    "               [0, 2, 1, 2, 8, 1],\n",
    "               [2, 1, 2, 3, 1, 9]])\n",
    "b6 = np.array([15, 12, 18, 14, 10, 16])\n",
    "\n",
    "systems = [\n",
    "    (a2, b2),\n",
    "    (a3, b3),\n",
    "    (a4, b4),\n",
    "    (a5, b5),\n",
    "    (a6, b6)\n",
    "]\n",
    "\n",
    "for n in [8, 12, 16, 20, 40, 60, 80, 100, 200, 400, 600, 800]:\n",
    "    A = np.random.randn(n, n)\n",
    "    x_true = np.ones(n)\n",
    "    b = A @ x_true\n",
    "    systems.append((A, b))\n",
    "\n",
    "for a, b in systems:\n",
    "    err = return_max_error(a, b)\n",
    "    print(f\"{a.shape[0]}x{a.shape[0]} max error = {err:.3e}\")"
   ],
   "id": "4d15bafc65294d5e",
   "outputs": [
    {
     "name": "stdout",
     "output_type": "stream",
     "text": [
      "2x2 max error = 0.000e+00\n",
      "3x3 max error = 0.000e+00\n",
      "4x4 max error = 1.776e-15\n",
      "5x5 max error = 3.553e-15\n",
      "6x6 max error = 3.553e-15\n",
      "8x8 max error = 3.553e-15\n",
      "12x12 max error = 4.263e-14\n",
      "16x16 max error = 8.060e-14\n",
      "20x20 max error = 8.837e-14\n",
      "40x40 max error = 3.610e-12\n",
      "60x60 max error = 1.950e-12\n",
      "80x80 max error = 2.033e-12\n",
      "100x100 max error = 1.106e-11\n",
      "200x200 max error = 1.581e-11\n",
      "400x400 max error = 5.319e-11\n",
      "600x600 max error = 9.258e-09\n",
      "800x800 max error = 2.163e-08\n"
     ]
    }
   ],
   "execution_count": 19
  }
 ],
 "metadata": {
  "kernelspec": {
   "display_name": "Python 3",
   "language": "python",
   "name": "python3"
  },
  "language_info": {
   "codemirror_mode": {
    "name": "ipython",
    "version": 2
   },
   "file_extension": ".py",
   "mimetype": "text/x-python",
   "name": "python",
   "nbconvert_exporter": "python",
   "pygments_lexer": "ipython2",
   "version": "2.7.6"
  }
 },
 "nbformat": 4,
 "nbformat_minor": 5
}
