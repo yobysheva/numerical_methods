{
 "cells": [
  {
   "metadata": {
    "ExecuteTime": {
     "end_time": "2025-05-22T00:43:16.909484Z",
     "start_time": "2025-05-22T00:43:10.307682Z"
    }
   },
   "cell_type": "code",
   "source": [
    "import numpy as np\n",
    "import pandas as pd"
   ],
   "id": "57c9c488a4f037a1",
   "outputs": [],
   "execution_count": 1
  },
  {
   "metadata": {},
   "cell_type": "markdown",
   "source": "",
   "id": "f9c0956208974854"
  },
  {
   "cell_type": "code",
   "id": "initial_id",
   "metadata": {
    "collapsed": true,
    "ExecuteTime": {
     "end_time": "2025-05-22T00:43:17.931826Z",
     "start_time": "2025-05-22T00:43:17.905496Z"
    }
   },
   "source": [
    "a, b = 1.5, 2.0\n",
    "# a, b = 0.6, 1.1\n",
    "\n",
    "i = 10\n",
    "h = (b - a) / i\n",
    "\n",
    "x_points = np.array([1.52, 1.97, 1.77])\n",
    "\n",
    "def y(x: float) -> float:\n",
    "    \"\"\"\n",
    "    Function to compute the given mathematical expression.\n",
    "\n",
    "    Args:\n",
    "    x (float): Input value\n",
    "\n",
    "    Returns:\n",
    "    float: Computed result\n",
    "    \"\"\"\n",
    "    return np.pow(x, 2) + np.log(x) - 4\n",
    "\n",
    "x_val = np.arange(a, a + h * (i + 1), h)\n",
    "y_val = y(x_val)\n",
    "x_val, y_val"
   ],
   "outputs": [
    {
     "data": {
      "text/plain": [
       "(array([1.5 , 1.55, 1.6 , 1.65, 1.7 , 1.75, 1.8 , 1.85, 1.9 , 1.95, 2.  ]),\n",
       " array([-1.34453489, -1.15924507, -0.96999637, -0.77672471, -0.57937175,\n",
       "        -0.37788421, -0.17221334,  0.03768564,  0.25185389,  0.47032937,\n",
       "         0.69314718]))"
      ]
     },
     "execution_count": 4,
     "metadata": {},
     "output_type": "execute_result"
    }
   ],
   "execution_count": 4
  },
  {
   "metadata": {},
   "cell_type": "markdown",
   "source": [
    "## Метод левых прямоугольников\n",
    "\n",
    "Формула:\n",
    "\n",
    "$$\n",
    "\\int_a^b f(x) \\, dx \\approx h \\sum_{i=0}^{n-1} f(x_i)\n",
    "$$\n",
    "\n",
    "где $h = \\frac{b - a}{n}$\n"
   ],
   "id": "7afbd4a24f50d3e0"
  },
  {
   "metadata": {
    "ExecuteTime": {
     "end_time": "2025-05-22T00:43:20.225874Z",
     "start_time": "2025-05-22T00:43:20.218363Z"
    }
   },
   "cell_type": "code",
   "source": [
    "def left_integration(x_values: np.ndarray, y_values: np.ndarray) -> float:\n",
    "    \"\"\"\n",
    "    Approximates the definite integral using the Left Rectangle Method.\n",
    "\n",
    "    Parameters:\n",
    "        x_values (np.ndarray): Array of x-coordinates (grid nodes), evenly spaced.\n",
    "        y_values (np.ndarray): Function values at the corresponding x-coordinates.\n",
    "\n",
    "    Returns:\n",
    "        float: Approximate value of the definite integral over the interval.\n",
    "    \"\"\"\n",
    "    n = len(x_values) - 1\n",
    "    a = x_values[0]\n",
    "    b = x_values[-1]\n",
    "    \n",
    "    integral = ((b - a) / n) * np.sum( y_values[:-1] )\n",
    "    \n",
    "    return integral"
   ],
   "id": "e3b68f548cecfd17",
   "outputs": [],
   "execution_count": 5
  },
  {
   "metadata": {},
   "cell_type": "markdown",
   "source": [
    "## Метод правых прямоугольников\n",
    "\n",
    "Формула:\n",
    "\n",
    "$$\n",
    "\\int_a^b f(x) \\, dx \\approx h \\sum_{i=1}^{n} f(x_i)\n",
    "$$\n",
    "\n",
    "где $h = \\frac{b - a}{n}$\n"
   ],
   "id": "fe74ec29c95c0354"
  },
  {
   "metadata": {
    "ExecuteTime": {
     "end_time": "2025-05-22T00:43:22.701866Z",
     "start_time": "2025-05-22T00:43:22.691291Z"
    }
   },
   "cell_type": "code",
   "source": [
    "def right_integration(x_values: np.ndarray, y_values: np.ndarray) -> float:\n",
    "    \"\"\"\n",
    "    Approximates the definite integral using the Right Rectangle Method.\n",
    "\n",
    "    Parameters:\n",
    "        x_values (np.ndarray): Array of x-coordinates (grid nodes), evenly spaced.\n",
    "        y_values (np.ndarray): Function values at the corresponding x-coordinates.\n",
    "\n",
    "    Returns:\n",
    "        float: Approximate value of the definite integral over the interval.\n",
    "    \"\"\"\n",
    "    n = len(x_values) - 1\n",
    "    a = x_values[0]\n",
    "    b = x_values[-1]\n",
    "    \n",
    "    integral = ((b - a) / n) * np.sum( y_values[1:] )\n",
    "    \n",
    "    return integral"
   ],
   "id": "594bdffdc429da05",
   "outputs": [],
   "execution_count": 6
  },
  {
   "metadata": {},
   "cell_type": "markdown",
   "source": [
    "## Метод средних прямоугольников\n",
    "\n",
    "Формула:\n",
    "\n",
    "$$\n",
    "\\int_a^b f(x) \\, dx \\approx h \\sum_{i=0}^{n/2 - 1} f\\left(x_{2i + 1}\\right)\n",
    "$$\n",
    "\n",
    "где $h = \\frac{b - a}{n / 2}$\n"
   ],
   "id": "7106564bb9af8ebe"
  },
  {
   "metadata": {
    "ExecuteTime": {
     "end_time": "2025-05-22T00:43:23.523141Z",
     "start_time": "2025-05-22T00:43:23.513601Z"
    }
   },
   "cell_type": "code",
   "source": [
    "def middle_integration(x_values: np.ndarray, y_values: np.ndarray) -> float:\n",
    "    \"\"\"\n",
    "    Approximates the definite integral using the Midpoint Rectangle Method.\n",
    "\n",
    "    Parameters:\n",
    "        x_values (np.ndarray): Array of x-coordinates (grid nodes), evenly spaced.\n",
    "        y_values (np.ndarray): Function values at the corresponding x-coordinates.\n",
    "\n",
    "    Returns:\n",
    "        float: Approximate value of the definite integral over the interval.\n",
    "\n",
    "    Note:\n",
    "        Assumes that the number of nodes is odd so that midpoints can be used correctly.\n",
    "    \"\"\"\n",
    "    n =  len(x_values) - 1\n",
    "    a = x_values[0]\n",
    "    b = x_values[-1]\n",
    "    \n",
    "    integral = ((b - a) / \n",
    "                (n // 2)\n",
    "                ) * np.sum([y_values[i] for i in range(1 , len(x_values) - 1, 2)]\n",
    "                            )\n",
    "    return integral"
   ],
   "id": "2f6e21c1f0973165",
   "outputs": [],
   "execution_count": 7
  },
  {
   "metadata": {},
   "cell_type": "markdown",
   "source": [
    "## Метод трапеций\n",
    "\n",
    "Формула:\n",
    "\n",
    "$$\n",
    "\\int_a^b f(x) \\, dx \\approx h \\left( \\frac{f(x_0)}{2} + \\sum_{i=1}^{n-1} f(x_i) + \\frac{f(x_n)}{2} \\right)\n",
    "$$\n",
    "\n",
    "где $h = \\frac{b - a}{n}$\n"
   ],
   "id": "7893f78089f6b84e"
  },
  {
   "metadata": {
    "ExecuteTime": {
     "end_time": "2025-05-22T00:43:24.057403Z",
     "start_time": "2025-05-22T00:43:24.050753Z"
    }
   },
   "cell_type": "code",
   "source": [
    "def tr_integration(x_values: np.ndarray, y_values: np.ndarray) -> float:\n",
    "    \"\"\"\n",
    "    Approximates the definite integral using the Trapezoidal Rule.\n",
    "\n",
    "    Parameters:\n",
    "        x_values (np.ndarray): Array of x-coordinates (grid nodes), evenly spaced.\n",
    "        y_values (np.ndarray): Function values at the corresponding x-coordinates.\n",
    "\n",
    "    Returns:\n",
    "        float: Approximate value of the definite integral over the interval.\n",
    "    \"\"\"\n",
    "    n = len(x_values) - 1\n",
    "    a = x_values[0]\n",
    "    b = x_values[-1]\n",
    "    \n",
    "    integral = ((b - a) / n) * ( \n",
    "            y_values[0] / 2 + \n",
    "            y_values[n] / 2 + \n",
    "            np.sum(y_values[1:len(y_values) - 1])\n",
    "    )\n",
    "    \n",
    "    return integral"
   ],
   "id": "6d74ee2d37483b21",
   "outputs": [],
   "execution_count": 8
  },
  {
   "metadata": {},
   "cell_type": "markdown",
   "source": [
    "## Метод Симпсона\n",
    "\n",
    "Формула:\n",
    "\n",
    "$$\n",
    "\\int_a^b f(x) \\, dx \\approx \\frac{h}{3} \\left(\n",
    "f(x_0) + 4 \\sum_{\\text{нечётные } i=1}^{n-1} f(x_i) + 2 \\sum_{\\text{чётные } i=2}^{n-2} f(x_i) + f(x_n)\n",
    "\\right)\n",
    "$$\n",
    "\n",
    "где $h = \\frac{b - a}{n}$, $n$ — чётное\n"
   ],
   "id": "d17bb93e59c8cb8c"
  },
  {
   "metadata": {
    "ExecuteTime": {
     "end_time": "2025-05-22T01:00:01.897020Z",
     "start_time": "2025-05-22T01:00:01.878033Z"
    }
   },
   "cell_type": "code",
   "source": [
    "def simpson_integration(x_values: np.ndarray, y_values: np.ndarray) -> float:\n",
    "    \"\"\"\n",
    "    Approximates the definite integral using Simpson's Rule (parabolic approximation).\n",
    "\n",
    "    Parameters:\n",
    "        x_values (np.ndarray): Array of x-coordinates (grid nodes), evenly spaced.\n",
    "        y_values (np.ndarray): Function values at the corresponding x-coordinates.\n",
    "\n",
    "    Returns:\n",
    "        float: Approximate value of the definite integral over the interval.\n",
    "\n",
    "    Raises:\n",
    "        ValueError: If the number of intervals is not even (required for Simpson's Rule).\n",
    "    \"\"\"\n",
    "    n = len(x_values) - 1\n",
    "    if n % 2 != 0:\n",
    "        raise ValueError(\"Number of intervals must be an even number\")\n",
    "    \n",
    "    a = x_values[0]\n",
    "    b = x_values[-1]\n",
    "    \n",
    "    integral = ((b - a) \n",
    "                / (n * 3)) * (\n",
    "            y_values[0] + \n",
    "            4 * np.sum(y_values[1:-1:2]) + \n",
    "            2 * np.sum(y_values[2:-1:2]) + \n",
    "            y_values[-1])\n",
    "    \n",
    "    return integral"
   ],
   "id": "ede60595003bb190",
   "outputs": [],
   "execution_count": 21
  },
  {
   "metadata": {},
   "cell_type": "markdown",
   "source": [
    "## Формула Ведделя\n",
    "\n",
    "Формула (на 6 подотрезков, 7 узлов):\n",
    "\n",
    "$$\n",
    "\\int_a^b f(x) \\, dx \\approx \\frac{3h}{10} \\left[\n",
    "f(x_0) + 5f(x_1) + f(x_2) + 6f(x_3) + f(x_4) + 5f(x_5) + f(x_6)\n",
    "\\right]\n",
    "$$\n",
    "\n",
    "где $h = \\frac{b - a}{6}$\n"
   ],
   "id": "7b160617d34d84de"
  },
  {
   "metadata": {
    "ExecuteTime": {
     "end_time": "2025-05-22T02:01:26.662089Z",
     "start_time": "2025-05-22T02:01:26.636176Z"
    }
   },
   "cell_type": "code",
   "source": [
    "def veddle_integration(x_values: np.ndarray, y_values: np.ndarray) -> float:\n",
    "    \"\"\"\n",
    "    Approximates the definite integral using Weddle's Rule (a higher-order Newton–Cotes formula).\n",
    "\n",
    "    Parameters:\n",
    "        x_values (np.ndarray): Array of 7 x-coordinates (6 intervals), evenly spaced.\n",
    "        y_values (np.ndarray): Function values at the corresponding x-coordinates.\n",
    "\n",
    "    Returns:\n",
    "        float: Approximate value of the definite integral over the interval.\n",
    "\n",
    "    Raises:\n",
    "        ValueError: If the number of intervals is not exactly 6.\n",
    "    \"\"\"\n",
    "    n = len(x_values) - 1\n",
    "    if n != 6:\n",
    "        raise ValueError(\"Number of intervals must be 6\")\n",
    "    \n",
    "    a = x_values[0]\n",
    "    b = x_values[-1]\n",
    "    \n",
    "    coeffficients = np.array([1, 5, 1, 6, 1, 5, 1])\n",
    "    \n",
    "    integral = (0.3 * ((b - a) / n) * np.dot(y_values, coeffficients))\n",
    "    \n",
    "    return integral"
   ],
   "id": "70a5619d50647e1e",
   "outputs": [],
   "execution_count": 37
  },
  {
   "metadata": {},
   "cell_type": "markdown",
   "source": [
    "## Формулы Ньютона–Котеса\n",
    "\n",
    "В зависимости от количества узлов $n + 1$:\n",
    "\n",
    "$$\n",
    "\\int_a^b f(x) \\, dx \\approx (b - a) \\cdot \\sum_{i=0}^{n} c_i \\cdot f(x_i)\n",
    "$$\n",
    "\n",
    "где $c_i$ — коэффициенты Ньютона–Котеса, зависящие от степени $n$.\n",
    "\n",
    "### ▫️ $n = 1$ (2 узла):\n",
    "\n",
    "$$\n",
    "\\int_a^b f(x) \\, dx \\approx \\frac{b - a}{2} \\left[ f(x_0) + f(x_1) \\right]\n",
    "$$\n",
    "\n",
    "### ▫️ $n = 2$ (3 узла):\n",
    "\n",
    "$$\n",
    "\\int_a^b f(x) \\, dx \\approx \\frac{b - a}{6} \\left[ f(x_0) + 4f(x_1) + f(x_2) \\right]\n",
    "$$\n",
    "\n",
    "### ▫️ $n = 3$ (4 узла):\n",
    "\n",
    "$$\n",
    "\\int_a^b f(x) \\, dx \\approx \\frac{b - a}{8} \\left[ f(x_0) + 3f(x_1) + 3f(x_2) + f(x_3) \\right]\n",
    "$$\n",
    "\n",
    "### ▫️ $n = 4$ (5 узлов):\n",
    "\n",
    "$$\n",
    "\\int_a^b f(x) \\, dx \\approx \\frac{b - a}{90} \\left[ 7f(x_0) + 32f(x_1) + 12f(x_2) + 32f(x_3) + 7f(x_4) \\right]\n",
    "$$\n",
    "\n",
    "### ▫️ $n = 5$ (6 узлов):\n",
    "\n",
    "$$\n",
    "\\int_a^b f(x) \\, dx \\approx \\frac{b - a}{288} \\left[ 19f(x_0) + 75f(x_1) + 50f(x_2) + 50f(x_3) + 75f(x_4) + 19f(x_5) \\right]\n",
    "$$\n",
    "\n",
    "### ▫️ $n = 6$ (7 узлов):\n",
    "\n",
    "$$\n",
    "\\int_a^b f(x) \\, dx \\approx \\frac{b - a}{840} \\left[ 41f(x_0) + 216f(x_1) + 27f(x_2) + 272f(x_3) + 27f(x_4) + 216f(x_5) + 41f(x_6) \\right]\n",
    "$$\n",
    "\n"
   ],
   "id": "9edc496ff22e3c8c"
  },
  {
   "metadata": {
    "ExecuteTime": {
     "end_time": "2025-05-22T02:17:13.439013Z",
     "start_time": "2025-05-22T02:17:13.424588Z"
    }
   },
   "cell_type": "code",
   "source": [
    "def newton_cotes_integration(x_values: np.ndarray, y_values: np.ndarray) -> float:\n",
    "    \"\"\"\n",
    "    Approximates the definite integral using closed Newton–Cotes formulas\n",
    "    (from 1st to 6th degree).\n",
    "\n",
    "    Parameters:\n",
    "        x_values (np.ndarray): Array of x-coordinates (2 to 7 nodes), evenly spaced.\n",
    "        y_values (np.ndarray): Function values at the corresponding x-coordinates.\n",
    "\n",
    "    Returns:\n",
    "        float: Approximate value of the definite integral over the interval.\n",
    "\n",
    "    Raises:\n",
    "        ValueError: If the number of intervals is greater than 6.\n",
    "    \"\"\"\n",
    "    n = len(x_values) - 1\n",
    "    \n",
    "    a = x_values[0]\n",
    "    b = x_values[-1]\n",
    "    \n",
    "    match n:\n",
    "        case 1:\n",
    "           coeffficients = np.array([1, 1]) / 2 \n",
    "        case 2:\n",
    "            coeffficients = np.array([1, 4, 1]) / 6\n",
    "        case 3:\n",
    "            coeffficients = np.array([1, 3, 3, 1]) / 8\n",
    "        case 4:\n",
    "            coeffficients = np.array([7, 32, 12, 32, 7]) / 90\n",
    "        case 5:\n",
    "            coeffficients = np.array([19, 75, 50, 50, 75, 19]) / 288\n",
    "        case 6:\n",
    "            coeffficients = np.array([41, 216, 27, 272, 27, 216, 41]) / 840\n",
    "        case default:\n",
    "            raise ValueError(\"Nodes quantity must be less then 7\")\n",
    "    \n",
    "    integral = (b - a) * np.dot(y_values, coeffficients)\n",
    "    \n",
    "    return integral"
   ],
   "id": "34c41142ed6cdb69",
   "outputs": [],
   "execution_count": 45
  },
  {
   "metadata": {},
   "cell_type": "markdown",
   "source": [
    "## Квадратуры Гаусса–Лежандра\n",
    "\n",
    "Формула:\n",
    "\n",
    "$$\n",
    "\\int_a^b f(x) \\, dx \\approx \\frac{b - a}{2} \\sum_{i=1}^{n} w_i \\cdot f\\left(\\frac{b + a}{2} + \\frac{b - a}{2} t_i\\right)\n",
    "$$\n",
    "\n",
    "где $t_i$ — корни многочлена Лежандра степени $n$, $w_i$ — соответствующие веса.\n"
   ],
   "id": "4b8741d8294d7484"
  },
  {
   "metadata": {
    "ExecuteTime": {
     "end_time": "2025-05-22T02:51:35.218411Z",
     "start_time": "2025-05-22T02:51:35.202417Z"
    }
   },
   "cell_type": "code",
   "source": [
    "def gauss_integration(a: float, b: float, func: callable ,n: int) -> float:\n",
    "    \"\"\"\n",
    "    Approximates the definite integral using Gauss–Legendre Quadrature.\n",
    "\n",
    "    Parameters:\n",
    "        a (float): Lower bound of the integration interval.\n",
    "        b (float): Upper bound of the integration interval.\n",
    "        func (callable): Function to integrate. Must accept NumPy arrays.\n",
    "        n (int): Number of Gauss points (supports 1 to 4 nodes).\n",
    "\n",
    "    Returns:\n",
    "        float: Approximate value of the definite integral over [a, b].\n",
    "\n",
    "    Raises:\n",
    "        ValueError: If the number of nodes n is greater than 4 (not supported).\n",
    "    \"\"\"\n",
    "    match n:\n",
    "        case 1:\n",
    "            coefficients = np.array([2])\n",
    "            t = np.array([0])\n",
    "        case 2:\n",
    "            coefficients = np.array([1, 1])\n",
    "            t = np.array([0.577350, -0.577350])\n",
    "        case 3:\n",
    "            coefficients = np.array([5, 8, 5]) / 9\n",
    "            t = np.array([0.774597, 0 ,-0.774597])\n",
    "        case 4:\n",
    "            coefficients = np.array([0.347855, 0.652145, 0.652145, 0.347855])\n",
    "            t = np.array([0.861136, 0.339981, -0.339981, -0.861136])\n",
    "        case default:\n",
    "            raise ValueError(\"Nodes quantity must be less then 4\")\n",
    "    \n",
    "    x_values = (b + a) / 2 + ((b - a) / 2) * t\n",
    "    y_values = func(x_values)\n",
    "    \n",
    "    integral = ((b - a) / 2) * np.dot(y_values, coefficients)\n",
    "    \n",
    "    return integral"
   ],
   "id": "a4f6ebd97d13714a",
   "outputs": [],
   "execution_count": 64
  },
  {
   "metadata": {
    "ExecuteTime": {
     "end_time": "2025-05-22T02:33:06.769015Z",
     "start_time": "2025-05-22T02:33:06.743656Z"
    }
   },
   "cell_type": "code",
   "source": [
    "names = [\"Левых прямоугольников\", \"Правых прямоугольников\", \"Центральных прямоугольников\", \"Трапеций\", \"Симпсона\", \"Веддля\", \"Ньютона-Костеса\", \"Гаусса\"]\n",
    "\n",
    "values = np.array([left_integration(x_val, y_val), right_integration(x_val, y_val), middle_integration(x_val, y_val), tr_integration(x_val, y_val), simpson_integration(x_val, y_val), veddle_integration(np.linspace(a, b, 7), y(np.linspace(a, b, 7))), newton_cotes_integration(np.linspace(a, b, 7), y(np.linspace(a, b, 7))), gauss_integration(a, b, y, 4)])\n",
    "\n",
    "real_value = -0.1802366343756893\n",
    "\n",
    "mistake = values - real_value\n",
    "\n",
    "df = pd.DataFrame({'Формула' : names, 'Вычисленное значение': values,'Истинное значение': [real_value] * len(values) , 'Ошибка': values - real_value})\n",
    "\n",
    "df"
   ],
   "id": "f5f76b62c921437",
   "outputs": [
    {
     "data": {
      "text/plain": [
       "                       Формула  Вычисленное значение  Истинное значение  \\\n",
       "0        Левых прямоугольников             -0.231005          -0.180237   \n",
       "1       Правых прямоугольников             -0.129121          -0.180237   \n",
       "2  Центральных прямоугольников             -0.180584          -0.180237   \n",
       "3                     Трапеций             -0.180063          -0.180237   \n",
       "4                     Симпсона             -0.180237          -0.180237   \n",
       "5                       Веддля             -0.180237          -0.180237   \n",
       "6              Ньютона-Костеса             -0.180237          -0.180237   \n",
       "7                       Гаусса             -0.180237          -0.180237   \n",
       "\n",
       "         Ошибка  \n",
       "0 -5.076844e-02  \n",
       "1  5.111567e-02  \n",
       "2 -3.472638e-04  \n",
       "3  1.736141e-04  \n",
       "4 -1.187076e-08  \n",
       "5 -9.272716e-10  \n",
       "6 -7.422798e-11  \n",
       "7 -2.776033e-09  "
      ],
      "text/html": [
       "<div>\n",
       "<style scoped>\n",
       "    .dataframe tbody tr th:only-of-type {\n",
       "        vertical-align: middle;\n",
       "    }\n",
       "\n",
       "    .dataframe tbody tr th {\n",
       "        vertical-align: top;\n",
       "    }\n",
       "\n",
       "    .dataframe thead th {\n",
       "        text-align: right;\n",
       "    }\n",
       "</style>\n",
       "<table border=\"1\" class=\"dataframe\">\n",
       "  <thead>\n",
       "    <tr style=\"text-align: right;\">\n",
       "      <th></th>\n",
       "      <th>Формула</th>\n",
       "      <th>Вычисленное значение</th>\n",
       "      <th>Истинное значение</th>\n",
       "      <th>Ошибка</th>\n",
       "    </tr>\n",
       "  </thead>\n",
       "  <tbody>\n",
       "    <tr>\n",
       "      <th>0</th>\n",
       "      <td>Левых прямоугольников</td>\n",
       "      <td>-0.231005</td>\n",
       "      <td>-0.180237</td>\n",
       "      <td>-5.076844e-02</td>\n",
       "    </tr>\n",
       "    <tr>\n",
       "      <th>1</th>\n",
       "      <td>Правых прямоугольников</td>\n",
       "      <td>-0.129121</td>\n",
       "      <td>-0.180237</td>\n",
       "      <td>5.111567e-02</td>\n",
       "    </tr>\n",
       "    <tr>\n",
       "      <th>2</th>\n",
       "      <td>Центральных прямоугольников</td>\n",
       "      <td>-0.180584</td>\n",
       "      <td>-0.180237</td>\n",
       "      <td>-3.472638e-04</td>\n",
       "    </tr>\n",
       "    <tr>\n",
       "      <th>3</th>\n",
       "      <td>Трапеций</td>\n",
       "      <td>-0.180063</td>\n",
       "      <td>-0.180237</td>\n",
       "      <td>1.736141e-04</td>\n",
       "    </tr>\n",
       "    <tr>\n",
       "      <th>4</th>\n",
       "      <td>Симпсона</td>\n",
       "      <td>-0.180237</td>\n",
       "      <td>-0.180237</td>\n",
       "      <td>-1.187076e-08</td>\n",
       "    </tr>\n",
       "    <tr>\n",
       "      <th>5</th>\n",
       "      <td>Веддля</td>\n",
       "      <td>-0.180237</td>\n",
       "      <td>-0.180237</td>\n",
       "      <td>-9.272716e-10</td>\n",
       "    </tr>\n",
       "    <tr>\n",
       "      <th>6</th>\n",
       "      <td>Ньютона-Костеса</td>\n",
       "      <td>-0.180237</td>\n",
       "      <td>-0.180237</td>\n",
       "      <td>-7.422798e-11</td>\n",
       "    </tr>\n",
       "    <tr>\n",
       "      <th>7</th>\n",
       "      <td>Гаусса</td>\n",
       "      <td>-0.180237</td>\n",
       "      <td>-0.180237</td>\n",
       "      <td>-2.776033e-09</td>\n",
       "    </tr>\n",
       "  </tbody>\n",
       "</table>\n",
       "</div>"
      ]
     },
     "execution_count": 56,
     "metadata": {},
     "output_type": "execute_result"
    }
   ],
   "execution_count": 56
  },
  {
   "metadata": {
    "ExecuteTime": {
     "end_time": "2025-05-22T02:49:13.079427Z",
     "start_time": "2025-05-22T02:49:13.039128Z"
    }
   },
   "cell_type": "code",
   "source": [
    "values = np.array([newton_cotes_integration(np.linspace(a, b, i), y(np.linspace(a, b, i))) for i in range(2, 7)])\n",
    "\n",
    "real_value = -0.1802366343756893\n",
    "\n",
    "mistake = values - real_value\n",
    "\n",
    "df = pd.DataFrame({'Количество узлов': range(2, 7), 'Вычисленное значение': values, 'Истинное значение': [real_value] * len(values),\n",
    "                   'Ошибка': values - real_value})\n",
    "print(\"Вычисление интеграла формулой Ньютона-Котеса для разного количества узлов\")\n",
    "display(df)"
   ],
   "id": "f249f8ef550bde5f",
   "outputs": [
    {
     "name": "stdout",
     "output_type": "stream",
     "text": [
      "Вычисление интеграла формулой Ньютона-Котеса для разного количества узлов\n"
     ]
    },
    {
     "data": {
      "text/plain": [
       "   Количество узлов  Вычисленное значение  Истинное значение        Ошибка\n",
       "0                 2             -0.162847          -0.180237  1.738971e-02\n",
       "1                 3             -0.180244          -0.180237 -7.078923e-06\n",
       "2                 4             -0.180240          -0.180237 -3.163290e-06\n",
       "3                 5             -0.180237          -0.180237 -1.738858e-08\n",
       "4                 6             -0.180237          -0.180237 -9.826970e-09"
      ],
      "text/html": [
       "<div>\n",
       "<style scoped>\n",
       "    .dataframe tbody tr th:only-of-type {\n",
       "        vertical-align: middle;\n",
       "    }\n",
       "\n",
       "    .dataframe tbody tr th {\n",
       "        vertical-align: top;\n",
       "    }\n",
       "\n",
       "    .dataframe thead th {\n",
       "        text-align: right;\n",
       "    }\n",
       "</style>\n",
       "<table border=\"1\" class=\"dataframe\">\n",
       "  <thead>\n",
       "    <tr style=\"text-align: right;\">\n",
       "      <th></th>\n",
       "      <th>Количество узлов</th>\n",
       "      <th>Вычисленное значение</th>\n",
       "      <th>Истинное значение</th>\n",
       "      <th>Ошибка</th>\n",
       "    </tr>\n",
       "  </thead>\n",
       "  <tbody>\n",
       "    <tr>\n",
       "      <th>0</th>\n",
       "      <td>2</td>\n",
       "      <td>-0.162847</td>\n",
       "      <td>-0.180237</td>\n",
       "      <td>1.738971e-02</td>\n",
       "    </tr>\n",
       "    <tr>\n",
       "      <th>1</th>\n",
       "      <td>3</td>\n",
       "      <td>-0.180244</td>\n",
       "      <td>-0.180237</td>\n",
       "      <td>-7.078923e-06</td>\n",
       "    </tr>\n",
       "    <tr>\n",
       "      <th>2</th>\n",
       "      <td>4</td>\n",
       "      <td>-0.180240</td>\n",
       "      <td>-0.180237</td>\n",
       "      <td>-3.163290e-06</td>\n",
       "    </tr>\n",
       "    <tr>\n",
       "      <th>3</th>\n",
       "      <td>5</td>\n",
       "      <td>-0.180237</td>\n",
       "      <td>-0.180237</td>\n",
       "      <td>-1.738858e-08</td>\n",
       "    </tr>\n",
       "    <tr>\n",
       "      <th>4</th>\n",
       "      <td>6</td>\n",
       "      <td>-0.180237</td>\n",
       "      <td>-0.180237</td>\n",
       "      <td>-9.826970e-09</td>\n",
       "    </tr>\n",
       "  </tbody>\n",
       "</table>\n",
       "</div>"
      ]
     },
     "metadata": {},
     "output_type": "display_data"
    }
   ],
   "execution_count": 60
  },
  {
   "metadata": {
    "ExecuteTime": {
     "end_time": "2025-05-22T02:52:13.028011Z",
     "start_time": "2025-05-22T02:52:13.009881Z"
    }
   },
   "cell_type": "code",
   "outputs": [
    {
     "name": "stdout",
     "output_type": "stream",
     "text": [
      "Вычисление интеграла формулой Гаусса для разного количества узлов\n"
     ]
    },
    {
     "data": {
      "text/plain": [
       "   Количество узлов  Вычисленное значение  Истинное значение        Ошибка\n",
       "0                 1             -0.188942          -0.180237 -8.705472e-03\n",
       "1                 2             -0.180232          -0.180237  4.695626e-06\n",
       "2                 3             -0.180237          -0.180237  2.404842e-08\n",
       "3                 4             -0.180237          -0.180237 -2.776033e-09"
      ],
      "text/html": [
       "<div>\n",
       "<style scoped>\n",
       "    .dataframe tbody tr th:only-of-type {\n",
       "        vertical-align: middle;\n",
       "    }\n",
       "\n",
       "    .dataframe tbody tr th {\n",
       "        vertical-align: top;\n",
       "    }\n",
       "\n",
       "    .dataframe thead th {\n",
       "        text-align: right;\n",
       "    }\n",
       "</style>\n",
       "<table border=\"1\" class=\"dataframe\">\n",
       "  <thead>\n",
       "    <tr style=\"text-align: right;\">\n",
       "      <th></th>\n",
       "      <th>Количество узлов</th>\n",
       "      <th>Вычисленное значение</th>\n",
       "      <th>Истинное значение</th>\n",
       "      <th>Ошибка</th>\n",
       "    </tr>\n",
       "  </thead>\n",
       "  <tbody>\n",
       "    <tr>\n",
       "      <th>0</th>\n",
       "      <td>1</td>\n",
       "      <td>-0.188942</td>\n",
       "      <td>-0.180237</td>\n",
       "      <td>-8.705472e-03</td>\n",
       "    </tr>\n",
       "    <tr>\n",
       "      <th>1</th>\n",
       "      <td>2</td>\n",
       "      <td>-0.180232</td>\n",
       "      <td>-0.180237</td>\n",
       "      <td>4.695626e-06</td>\n",
       "    </tr>\n",
       "    <tr>\n",
       "      <th>2</th>\n",
       "      <td>3</td>\n",
       "      <td>-0.180237</td>\n",
       "      <td>-0.180237</td>\n",
       "      <td>2.404842e-08</td>\n",
       "    </tr>\n",
       "    <tr>\n",
       "      <th>3</th>\n",
       "      <td>4</td>\n",
       "      <td>-0.180237</td>\n",
       "      <td>-0.180237</td>\n",
       "      <td>-2.776033e-09</td>\n",
       "    </tr>\n",
       "  </tbody>\n",
       "</table>\n",
       "</div>"
      ]
     },
     "metadata": {},
     "output_type": "display_data"
    }
   ],
   "execution_count": 66,
   "source": [
    "values = np.array([gauss_integration(a, b, y, i) for i in range(1, 5)])\n",
    "\n",
    "real_value = -0.1802366343756893\n",
    "\n",
    "mistake = values - real_value\n",
    "\n",
    "df = pd.DataFrame({'Количество узлов': range(1, 5), 'Вычисленное значение': values, 'Истинное значение': [real_value] * len(values),\n",
    "                   'Ошибка': values - real_value})\n",
    "print(\"Вычисление интеграла формулой Гаусса для разного количества узлов\")\n",
    "display(df)"
   ],
   "id": "b28331ea9137442e"
  }
 ],
 "metadata": {
  "kernelspec": {
   "display_name": "Python 3",
   "language": "python",
   "name": "python3"
  },
  "language_info": {
   "codemirror_mode": {
    "name": "ipython",
    "version": 2
   },
   "file_extension": ".py",
   "mimetype": "text/x-python",
   "name": "python",
   "nbconvert_exporter": "python",
   "pygments_lexer": "ipython2",
   "version": "2.7.6"
  }
 },
 "nbformat": 4,
 "nbformat_minor": 5
}
