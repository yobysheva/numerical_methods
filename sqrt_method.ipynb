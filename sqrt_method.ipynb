{
 "cells": [
  {
   "cell_type": "code",
   "id": "initial_id",
   "metadata": {
    "collapsed": true,
    "ExecuteTime": {
     "end_time": "2025-10-31T00:51:56.851988Z",
     "start_time": "2025-10-31T00:51:56.843897Z"
    }
   },
   "source": [
    "import numpy as np\n",
    "np.set_printoptions(\n",
    "    precision=4,\n",
    "    linewidth=120,\n",
    "    floatmode='fixed' \n",
    ")"
   ],
   "outputs": [],
   "execution_count": 7
  },
  {
   "metadata": {
    "ExecuteTime": {
     "end_time": "2025-10-31T00:51:58.445746Z",
     "start_time": "2025-10-31T00:51:58.415376Z"
    }
   },
   "cell_type": "code",
   "source": [
    "def sqrt_method(a : np.ndarray[np.ndarray], b : np.ndarray, show_annotation : bool = False) -> np.ndarray:\n",
    "    a = np.array(a, float)\n",
    "    b = np.array(b, float)\n",
    "    \n",
    "    if a.shape[0] != a.shape[1]:\n",
    "        raise ValueError(\"Matrix a must be square\")\n",
    "    \n",
    "    if a.shape[0] != b.shape[0]:\n",
    "        raise ValueError(\"The dimensions of the two arrays must match\")\n",
    "    \n",
    "    if not np.array_equal(a, a.T):\n",
    "        raise ValueError(\"Matrix a must be symmetric\")\n",
    "    \n",
    "    det_a = np.linalg.det(a)\n",
    "    if abs(det_a) < 1e-13:\n",
    "        raise ValueError(\"Determinant is zero — system has no unique solution\")\n",
    "    \n",
    "    n = len(b)\n",
    "    \n",
    "    if show_annotation:\n",
    "        print(\"System:\\n\", a, b, \"\\n\")\n",
    "        \n",
    "    s = np.zeros((n, n), dtype='complex')\n",
    "    s[0, 0] = np.sqrt(a[0,0])\n",
    "    s[0, 1:] = a[0, 1:] / s[0, 0]\n",
    "    \n",
    "    for i in range(1, n):\n",
    "        s[i, i] = np.sqrt(a[i, i] - np.sum(s[:i, i] ** 2) )\n",
    "        \n",
    "        for j in range(i+1, n):\n",
    "            s[i, j] = (a[i, j] - np.sum([s[k, i] * s[k, j] for k in range(i)]) ) / s[i, i]\n",
    "            \n",
    "        s[i, :i] = 0\n",
    "    \n",
    "    y = np.zeros(n, dtype='complex')\n",
    "    y[0] = b[0] / s[0, 0]\n",
    "    \n",
    "    for i in range(1, n):\n",
    "        y[i] = (b[i] - np.sum(s[:i, i] * y[:i])) / s[i, i]\n",
    "    \n",
    "    if show_annotation:\n",
    "        print(\"S: \", s)\n",
    "        print(\"\\ny: \", y)\n",
    "        \n",
    "    x = np.zeros(n, dtype='complex')\n",
    "    x[n-1] = y[n-1] / s[n-1, n-1]\n",
    "    \n",
    "    for i in range(n - 1, -1, -1):\n",
    "        x[i] = (y[i] - np.sum(s[i, i+1:] * x[i+1:])) / s[i, i]\n",
    "    \n",
    "    if show_annotation:    \n",
    "        print(\"\\nx: \", x)\n",
    "    \n",
    "    return x"
   ],
   "id": "cd04cc1ccc632e98",
   "outputs": [],
   "execution_count": 8
  },
  {
   "metadata": {
    "ExecuteTime": {
     "end_time": "2025-10-31T00:52:01.066513Z",
     "start_time": "2025-10-31T00:52:01.043980Z"
    }
   },
   "cell_type": "code",
   "source": [
    "a = np.array([[1, 3, -2, 0, -2], \n",
    "              [3, 4, -5, 1, -3], \n",
    "              [-2, -5, 3, -2, 2], \n",
    "              [0, 1, -2, 5, 3], \n",
    "              [-2, -3, 2, 3, 4]])\n",
    "b = np.array([0.5, 5.4, 5, 7.5, 3.3])\n",
    "\n",
    "x = sqrt_method(a, b, show_annotation=True)\n",
    "\n",
    "b_ = a @ x\n",
    "max_error = np.max(np.abs(b - b_))\n",
    "print(\"max error: \", max_error)"
   ],
   "id": "9e8bf32594488dff",
   "outputs": [
    {
     "name": "stdout",
     "output_type": "stream",
     "text": [
      "System:\n",
      " [[ 1.0000  3.0000 -2.0000  0.0000 -2.0000]\n",
      " [ 3.0000  4.0000 -5.0000  1.0000 -3.0000]\n",
      " [-2.0000 -5.0000  3.0000 -2.0000  2.0000]\n",
      " [ 0.0000  1.0000 -2.0000  5.0000  3.0000]\n",
      " [-2.0000 -3.0000  2.0000  3.0000  4.0000]] [0.5000 5.4000 5.0000 7.5000 3.3000] \n",
      "\n",
      "S:  [[ 1.0000+0.0000j  3.0000+0.0000j -2.0000+0.0000j  0.0000+0.0000j -2.0000+0.0000j]\n",
      " [ 0.0000+0.0000j  0.0000+2.2361j  0.0000-0.4472j  0.0000-0.4472j  0.0000-1.3416j]\n",
      " [ 0.0000+0.0000j  0.0000+0.0000j  0.0000+0.8944j  0.0000+2.0125j  0.0000+1.5652j]\n",
      " [ 0.0000+0.0000j  0.0000+0.0000j  0.0000+0.0000j  3.0414+0.0000j  2.2194+0.0000j]\n",
      " [ 0.0000+0.0000j  0.0000+0.0000j  0.0000+0.0000j  0.0000+0.0000j  0.0000+0.8220j]]\n",
      "\n",
      "y:  [ 0.5000+0.0000j  0.0000-1.7441j  0.0000-7.5803j -2.2934+0.0000j  0.0000+0.1644j]\n",
      "\n",
      "x:  [-6.1000+0.0000j -2.2000-0.0000j -6.8000-0.0000j -0.9000+0.0000j  0.2000+0.0000j]\n",
      "max error:  4.440892098500626e-15\n"
     ]
    }
   ],
   "execution_count": 9
  },
  {
   "metadata": {
    "ExecuteTime": {
     "end_time": "2025-10-26T10:43:16.083916Z",
     "start_time": "2025-10-26T10:42:10.805955Z"
    }
   },
   "cell_type": "code",
   "source": [
    "def return_max_error(a, b):\n",
    "    x = sqrt_method(a, b)\n",
    "    b_ = a @ x\n",
    "    max_error = np.max(np.abs(b - b_))\n",
    "    return max_error\n",
    "\n",
    "\n",
    "a2 = np.array([[4, 2],\n",
    "               [2, 3]])\n",
    "b2 = np.array([6, 8])\n",
    "\n",
    "a3 = np.array([[6, 2, 1],\n",
    "               [2, 5, 2],\n",
    "               [1, 2, 4]])\n",
    "b3 = np.array([9, 10, 7])\n",
    "\n",
    "a4 = np.array([[10, 2, 3, 1],\n",
    "               [2, 8, 1, 0],\n",
    "               [3, 1, 9, 4],\n",
    "               [1, 0, 4, 7]])\n",
    "b4 = np.array([12, 9, 11, 8])\n",
    "\n",
    "a5 = np.array([[9, 1, 2, 3, 1],\n",
    "               [1, 7, 1, 2, 0],\n",
    "               [2, 1, 8, 1, 2],\n",
    "               [3, 2, 1, 10, 3],\n",
    "               [1, 0, 2, 3, 6]])\n",
    "b5 = np.array([17, 13, 15, 18, 10])\n",
    "\n",
    "a6 = np.array([[12, 3, 2, 1, 0, 2],\n",
    "               [3, 9, 1, 0, 2, 1],\n",
    "               [2, 1, 11, 4, 1, 2],\n",
    "               [1, 0, 4, 10, 2, 3],\n",
    "               [0, 2, 1, 2, 8, 1],\n",
    "               [2, 1, 2, 3, 1, 9]])\n",
    "b6 = np.array([15, 12, 18, 14, 10, 16])\n",
    "\n",
    "def generate_spd_matrix(n):\n",
    "    A = np.random.randn(n, n)\n",
    "    return np.dot(A.T, A) + n * np.eye(n)\n",
    "\n",
    "\n",
    "systems = [\n",
    "    (a2, b2),\n",
    "    (a3, b3),\n",
    "    (a4, b4),\n",
    "    (a5, b5),\n",
    "    (a6, b6)\n",
    "]\n",
    "\n",
    "for n in [8, 12, 16, 20, 40, 60, 80, 100, 200, 400, 600, 800]:\n",
    "    A = generate_spd_matrix(n)\n",
    "    x_true = np.ones(n)\n",
    "    b = A @ x_true\n",
    "    systems.append((A, b))\n",
    "\n",
    "for a, b in systems:\n",
    "    err = return_max_error(a, b)\n",
    "    print(f\"{a.shape[0]}x{a.shape[0]} max error = {err:.3e}\")"
   ],
   "id": "a047344dfc48f7ee",
   "outputs": [
    {
     "name": "stdout",
     "output_type": "stream",
     "text": [
      "2x2 max error = 1.776e-15\n",
      "3x3 max error = 1.776e-15\n",
      "4x4 max error = 1.776e-15\n",
      "5x5 max error = 3.553e-15\n",
      "6x6 max error = 3.553e-15\n",
      "8x8 max error = 7.105e-15\n",
      "12x12 max error = 7.105e-15\n",
      "16x16 max error = 1.421e-14\n",
      "20x20 max error = 2.132e-14\n",
      "40x40 max error = 5.684e-14\n",
      "60x60 max error = 1.279e-13\n",
      "80x80 max error = 1.705e-13\n",
      "100x100 max error = 1.990e-13\n",
      "200x200 max error = 7.958e-13\n",
      "400x400 max error = 1.364e-12\n",
      "600x600 max error = 2.899e-12\n",
      "800x800 max error = 7.276e-12\n"
     ]
    }
   ],
   "execution_count": 57
  }
 ],
 "metadata": {
  "kernelspec": {
   "display_name": "Python 3",
   "language": "python",
   "name": "python3"
  },
  "language_info": {
   "codemirror_mode": {
    "name": "ipython",
    "version": 2
   },
   "file_extension": ".py",
   "mimetype": "text/x-python",
   "name": "python",
   "nbconvert_exporter": "python",
   "pygments_lexer": "ipython2",
   "version": "2.7.6"
  }
 },
 "nbformat": 4,
 "nbformat_minor": 5
}
