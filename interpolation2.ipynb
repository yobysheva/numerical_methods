{
 "cells": [
  {
   "metadata": {},
   "cell_type": "markdown",
   "source": "# Imports and connections ",
   "id": "d8f440947cbc0397"
  },
  {
   "metadata": {
    "ExecuteTime": {
     "end_time": "2025-05-14T05:28:46.223308Z",
     "start_time": "2025-05-14T05:28:39.969530Z"
    }
   },
   "cell_type": "code",
   "outputs": [],
   "execution_count": 1,
   "source": [
    "import numpy as np\n",
    "import pandas as pd"
   ],
   "id": "b8711f114b0d3f98"
  },
  {
   "metadata": {
    "ExecuteTime": {
     "end_time": "2025-05-14T10:55:47.874437Z",
     "start_time": "2025-05-14T10:55:47.796733Z"
    }
   },
   "cell_type": "code",
   "source": [
    "a, b = 1.5, 2.0\n",
    "# a, b = 0.6, 1.1\n",
    "\n",
    "i = 10\n",
    "h = (b - a) / i\n",
    "\n",
    "x_points = np.array([1.52, 1.97, 1.77])\n",
    "\n",
    "def y(x: float) -> float:\n",
    "    \"\"\"\n",
    "    Function to compute the given mathematical expression.\n",
    "\n",
    "    Args:\n",
    "    x (float): Input value\n",
    "\n",
    "    Returns:\n",
    "    float: Computed result\n",
    "    \"\"\"\n",
    "    return np.pow(x, 2) + np.log(x) - 4\n",
    "\n",
    "x_val = np.arange(a, a + h * (i + 1), h)\n",
    "y_val = y(x_val)\n",
    "x_val, y_val"
   ],
   "id": "9f5d32b4fdaaa9ed",
   "outputs": [
    {
     "data": {
      "text/plain": [
       "(array([1.5 , 1.55, 1.6 , 1.65, 1.7 , 1.75, 1.8 , 1.85, 1.9 , 1.95, 2.  ]),\n",
       " array([-1.34453489, -1.15924507, -0.96999637, -0.77672471, -0.57937175,\n",
       "        -0.37788421, -0.17221334,  0.03768564,  0.25185389,  0.47032937,\n",
       "         0.69314718]))"
      ]
     },
     "execution_count": 168,
     "metadata": {},
     "output_type": "execute_result"
    }
   ],
   "execution_count": 168
  },
  {
   "metadata": {},
   "cell_type": "markdown",
   "source": "### Сначала составим таблицу разделенных разностей для дальнейшей работы с ними",
   "id": "9059f4de5dbf3d03"
  },
  {
   "metadata": {
    "ExecuteTime": {
     "end_time": "2025-05-14T08:35:33.962040Z",
     "start_time": "2025-05-14T08:35:33.914456Z"
    }
   },
   "cell_type": "code",
   "source": [
    "def count_finite_differences(y_values: np.ndarray) -> np.ndarray:\n",
    "    \"\"\"\n",
    "    Calculates finite differences for grid function.\n",
    "\n",
    "    Args:\n",
    "    y_values (np.ndarray): y-values on the grid\n",
    "    \n",
    "    Returns:\n",
    "    np.ndarray: Array of finite differences\n",
    "    \"\"\"\n",
    "    n = len(y_values)\n",
    "        \n",
    "    finite_differences = [np.copy(y_values)]\n",
    "        \n",
    "    for j in range(1,n):\n",
    "        current_row = np.zeros(n - j)\n",
    "        for i in range(n - j):\n",
    "            current_row[i] = finite_differences[j - 1][i + 1] - finite_differences[j - 1][i]\n",
    "        finite_differences.append(current_row)\n",
    "    return finite_differences\n",
    "\n",
    "my_finite_differences = count_finite_differences(y_val)\n",
    "print(pd.DataFrame(my_finite_differences).T)"
   ],
   "id": "9ae8eb55d47a87d9",
   "outputs": [
    {
     "name": "stdout",
     "output_type": "stream",
     "text": [
      "          0         1         2         3         4             5   \\\n",
      "0  -1.344535  0.185290  0.003959  0.000064 -0.000006  6.658397e-07   \n",
      "1  -1.159245  0.189249  0.004023  0.000058 -0.000005  5.720193e-07   \n",
      "2  -0.969996  0.193272  0.004081  0.000053 -0.000005  4.936289e-07   \n",
      "3  -0.776725  0.197353  0.004135  0.000049 -0.000004  4.277866e-07   \n",
      "4  -0.579372  0.201488  0.004183  0.000045 -0.000004  3.722098e-07   \n",
      "5  -0.377884  0.205671  0.004228  0.000041 -0.000003  3.250785e-07   \n",
      "6  -0.172213  0.209899  0.004269  0.000038 -0.000003           NaN   \n",
      "7   0.037686  0.214168  0.004307  0.000035       NaN           NaN   \n",
      "8   0.251854  0.218475  0.004342       NaN       NaN           NaN   \n",
      "9   0.470329  0.222818       NaN       NaN       NaN           NaN   \n",
      "10  0.693147       NaN       NaN       NaN       NaN           NaN   \n",
      "\n",
      "              6             7             8             9             10  \n",
      "0  -9.382038e-08  1.542992e-08 -2.881783e-09  5.991776e-10 -1.366312e-10  \n",
      "1  -7.839046e-08  1.254814e-08 -2.282605e-09  4.625464e-10           NaN  \n",
      "2  -6.584232e-08  1.026554e-08 -1.820059e-09           NaN           NaN  \n",
      "3  -5.557679e-08  8.445476e-09           NaN           NaN           NaN  \n",
      "4  -4.713131e-08           NaN           NaN           NaN           NaN  \n",
      "5            NaN           NaN           NaN           NaN           NaN  \n",
      "6            NaN           NaN           NaN           NaN           NaN  \n",
      "7            NaN           NaN           NaN           NaN           NaN  \n",
      "8            NaN           NaN           NaN           NaN           NaN  \n",
      "9            NaN           NaN           NaN           NaN           NaN  \n",
      "10           NaN           NaN           NaN           NaN           NaN  \n"
     ]
    }
   ],
   "execution_count": 115
  },
  {
   "metadata": {},
   "cell_type": "markdown",
   "source": [
    "**1-я формула Ньютона** по $x_0, x_1, x_2, \\ldots, x_n$, $x = x_0 + th$, $0 < t < 1$,\n",
    "\n",
    "$$\n",
    "L_n(x_0 + th) = f_0 + t f_{1/2}^1 + \\frac{t(t - 1)}{2} f_1^2 + \\ldots + \\frac{t(t - 1)\\cdots(t - (n - 1))}{n!} f_{n/2}^n,\n",
    "$$\n"
   ],
   "id": "bf5debc4a7a033b1"
  },
  {
   "cell_type": "code",
   "id": "initial_id",
   "metadata": {
    "collapsed": true,
    "ExecuteTime": {
     "end_time": "2025-05-14T08:35:45.574018Z",
     "start_time": "2025-05-14T08:35:45.535658Z"
    }
   },
   "source": [
    "def first_newton_interpolation(x: float, x_values: np.ndarray, y_values: np.ndarray) -> float:\n",
    "    \"\"\"\n",
    "    Performs Newton interpolation.\n",
    "\n",
    "    Args:\n",
    "    x (float): The x-value to interpolate\n",
    "    x_values (np.ndarray): Known x-values\n",
    "    y_values (np.ndarray): Corresponding y-values\n",
    "    \n",
    "    Returns:\n",
    "    float: Interpolated value\n",
    "    \"\"\"\n",
    "    t = (x - x_values[0]) / (x_values[1] - x_values[0])\n",
    "    \n",
    "    if t < 0 or t > 1:\n",
    "        raise ValueError(\"t must be close to start\")\n",
    "    \n",
    "    finite_differences = count_finite_differences(y_values)\n",
    "    n = len(y_values)\n",
    "    \n",
    "    res = finite_differences[0][0]\n",
    "    for i in range(1, n):\n",
    "        res += finite_differences[i][0] * np.prod([(t-k) / (k+1) for k in range(i)])  \n",
    "        \n",
    "    return res"
   ],
   "outputs": [],
   "execution_count": 116
  },
  {
   "metadata": {
    "ExecuteTime": {
     "end_time": "2025-05-14T08:36:10.457840Z",
     "start_time": "2025-05-14T08:36:10.437094Z"
    }
   },
   "cell_type": "code",
   "source": [
    "res1 = first_newton_interpolation(x=x_points[0], x_values=x_val, y_values=y_val)\n",
    "print(f\"Результат: {res1}, \\nИстинное значение: {y(x_points[0])},\\nОшибка: {y(x_points[0]) - res1}\") "
   ],
   "id": "82b6d0d377e55d13",
   "outputs": [
    {
     "name": "stdout",
     "output_type": "stream",
     "text": [
      "Результат: -1.2708896651422397, \n",
      "Истинное значение: -1.270889665141815,\n",
      "Ошибка: 4.247713292215849e-13\n"
     ]
    }
   ],
   "execution_count": 118
  },
  {
   "metadata": {},
   "cell_type": "markdown",
   "source": [
    "**2-я формула Ньютона** по $x_0, x_1, x_2, \\ldots, x_n$, $x = x_0 + th$, $-1 < t < 0$,\n",
    "\n",
    "$$\n",
    "L_n(x_0 + th) = f_0 + t f_{1/2}^1 + \\frac{t(t + 1)}{2} f_1^2 + \\ldots + \\frac{t(t + 1)\\cdots(t + (n - 1))}{n!} f_{n/2}^n,\n",
    "$$"
   ],
   "id": "9b6c2ad3ad2a5d8b"
  },
  {
   "metadata": {
    "ExecuteTime": {
     "end_time": "2025-05-14T09:07:41.279587Z",
     "start_time": "2025-05-14T09:07:41.245988Z"
    }
   },
   "cell_type": "code",
   "source": [
    "def second_newton_interpolation(x: float, x_values: np.ndarray, y_values: np.ndarray) -> float:\n",
    "    \"\"\"\n",
    "    Performs Newton interpolation.\n",
    "\n",
    "    Args:\n",
    "    x (float): The x-value to interpolate\n",
    "    x_values (np.ndarray): Known x-values\n",
    "    y_values (np.ndarray): Corresponding y-values\n",
    "    \n",
    "    Returns:\n",
    "    float: Interpolated value\n",
    "    \"\"\"\n",
    "    t = (x - x_values[-1]) / (x_values[1] - x_values[0])\n",
    "    \n",
    "    if t > 0 or t < -1:\n",
    "        raise ValueError(\"t must be close to end\")\n",
    "    \n",
    "    finite_differences = count_finite_differences(y_values)\n",
    "    n = len(y_values)\n",
    "        \n",
    "    res = finite_differences[0][-1]\n",
    "    for i in range(1, n):\n",
    "        res += finite_differences[i][-1] * np.prod([(t+k) / (k+1) for k in range(i)])  \n",
    "\n",
    "    return res"
   ],
   "id": "ba25bc06e6c034fb",
   "outputs": [],
   "execution_count": 134
  },
  {
   "metadata": {
    "ExecuteTime": {
     "end_time": "2025-05-14T08:36:21.243209Z",
     "start_time": "2025-05-14T08:36:21.223782Z"
    }
   },
   "cell_type": "code",
   "source": [
    "res2 = second_newton_interpolation(x=x_points[1], x_values=x_val, y_values=y_val)\n",
    "print(f\"Результат: {res2}, \\nИстинное значение: {y(x_points[1])},\\nОшибка: {y(x_points[1]) - res2}\")"
   ],
   "id": "4762eeaffd52b4f8",
   "outputs": [
    {
     "name": "stdout",
     "output_type": "stream",
     "text": [
      "Результат: 0.5589335427501104, \n",
      "Истинное значение: 0.5589335427498971,\n",
      "Ошибка: -2.1327384303049257e-13\n"
     ]
    }
   ],
   "execution_count": 120
  },
  {
   "metadata": {},
   "cell_type": "markdown",
   "source": [
    "**1-я формула Гаусса** по точкам $x_0, x_1, x_{-1}, x_2, x_{-2}, \\ldots, x_{n/2}, x_{-n/2}$,\n",
    "\n",
    "$x = x_0 + th$, $0 < t \\leq 0.5$,\n",
    "\n",
    "$$\n",
    "L_n(x_0 + th) = f_0 + t f_{1/2}^1 + \\frac{t(t - 1)}{2} f_0^2 + \\ldots + \\frac{t(t^2 - 1)\\cdots(t^2 - (\\frac{n}{2} - 2)^2)(t^2 - (\\frac{n}{2} - 1)^2)}{n!} f_0^n,\n",
    "$$"
   ],
   "id": "3d34744caf08b518"
  },
  {
   "metadata": {
    "ExecuteTime": {
     "end_time": "2025-05-15T01:21:21.182275Z",
     "start_time": "2025-05-15T01:21:21.119225Z"
    }
   },
   "cell_type": "code",
   "source": [
    "def first_gauss_interpolation(x: float, x_values: np.ndarray, y_values: np.ndarray) -> float:\n",
    "    \"\"\"\n",
    "    Performs Gauss interpolation.\n",
    "\n",
    "    Args:\n",
    "    x (float): The x-value to interpolate\n",
    "    x_values (np.ndarray): Known x-values\n",
    "    y_values (np.ndarray): Corresponding y-values\n",
    "    \n",
    "    Returns:\n",
    "    float: Interpolated value\n",
    "    \"\"\"\n",
    "    n = len(y_values)\n",
    "    t = (x - x_values[n // 2]) / (x_values[1] - x_values[0])\n",
    "\n",
    "    if not (0 < t < 0.5):\n",
    "        raise ValueError(\"t must be close to middle\")\n",
    "\n",
    "    \n",
    "    finite_differences = count_finite_differences(y_values)\n",
    "    q = (x - x_values[n // 2]) / (x_values[1] - x_values[0])\n",
    "    \n",
    "        \n",
    "    res = finite_differences[0][n // 2]\n",
    "    for i in range(1, n):\n",
    "        res += finite_differences[i][len(finite_differences[i] + 1) // 2] * np.prod([(q - k // 2) / (k + 1) if not k % 2 else (q + k // 2) / (k + 1) for k in range(i)])  \n",
    "\n",
    "    return res"
   ],
   "id": "f2edb9b48848e426",
   "outputs": [],
   "execution_count": 172
  },
  {
   "metadata": {
    "ExecuteTime": {
     "end_time": "2025-05-15T01:21:24.438607Z",
     "start_time": "2025-05-15T01:21:24.427441Z"
    }
   },
   "cell_type": "code",
   "source": [
    "res3 = first_gauss_interpolation(x=x_points[2], x_values=x_val, y_values=y_val)\n",
    "print(f\"Результат: {res3}, \\nИстинное значение: {y(x_points[2])},\\nОшибка: {y(x_points[2]) - res3}\")"
   ],
   "id": "96e34563c4f7e0fe",
   "outputs": [
    {
     "name": "stdout",
     "output_type": "stream",
     "text": [
      "Результат: -0.29528188701577507, \n",
      "Истинное значение: -0.29612045341426185,\n",
      "Ошибка: -0.0008385663984867842\n"
     ]
    }
   ],
   "execution_count": 173
  },
  {
   "metadata": {
    "ExecuteTime": {
     "end_time": "2025-05-14T10:50:13.208359Z",
     "start_time": "2025-05-14T10:50:13.160889Z"
    }
   },
   "cell_type": "code",
   "source": [
    "def omega(x):\n",
    "    res = 1\n",
    "    for x_i in x_val:\n",
    "        res *= (x-x_i)\n",
    "    return res\n",
    "\n",
    "omega(x_points) * 41952.6 / 39916800, omega(x_points) * 1771.8 / 39916800 "
   ],
   "id": "a4618a99ce74412c",
   "outputs": [
    {
     "data": {
      "text/plain": [
       "(array([ 1.96767494e-12, -1.25016667e-12, -2.30304671e-14]),\n",
       " array([ 8.31015589e-14, -5.27987612e-14, -9.72654415e-16]))"
      ]
     },
     "execution_count": 164,
     "metadata": {},
     "output_type": "execute_result"
    }
   ],
   "execution_count": 164
  },
  {
   "metadata": {},
   "cell_type": "markdown",
   "source": [
    "### Оценка ошибки интерполяции 10-го порядка\n",
    "\n",
    "Используем формулу остаточного члена интерполяционной формулы Лагранжа дессятого порядка:\n",
    "\n",
    "$$R_2(x) = \\frac{f^{XI}(\\xi) \\cdot \\omega_{11}(x)}{11!}, \\quad \\xi \\in [a,b]$$\n",
    "\n",
    "где  \n",
    "\n",
    "$$\n",
    "\\omega_{11}(x) = (x - x_0) ... (x - x_{10})\n",
    "$$\n",
    "\n",
    "#### 1. Вычислим третью производную функции\n",
    "\n",
    "Функция:\n",
    "\n",
    "$$\n",
    "f(x) = x^2 + \\ln(x) - 4\n",
    "$$\n",
    "11-я производная:\n",
    "\n",
    "$$\n",
    "f^{XI}(x) = \\frac{10!}{x^11}\n",
    "$$\n",
    "\n",
    "$$\n",
    "f^{XI}(1.5) = f{X|}_{\\max} \\approx 41952.6\n",
    "$$\n",
    "\n",
    "$$\n",
    "f^{XI}(2) = f{X|}_{\\min} = 1771.8\n",
    "$$\n",
    "\n",
    "$$\n",
    "\\omega_{XI}(1.52) = 1.87219117e-09\n",
    "$$\n",
    "\n",
    "$$\n",
    "\\omega_{XI}(1.97) = -1.18950084e-09\n",
    "$$\n",
    "\n",
    "$$\n",
    "\\omega_{XI}(1.77) = -2.19128862e-11\n",
    "$$\n",
    "\n",
    "$$\n",
    "|R_{X}|_{\\max}(1.52) = \\left| \\frac{f^{XI}_{\\max} \\cdot \\omega_{XI}(1.52)}{11!} \\right| = \\left| \\frac{41952.6 \\cdot 1.87219117e-09}{11!} \\right| \\approx 1.96767494e-12\n",
    "$$\n",
    "\n",
    "$$\n",
    "|R_{X}|_{\\min}(1.52) = \\left| \\frac{f^{XI}_{\\min} \\cdot \\omega_{XI}(1.52)}{11!} \\right| = \\left| \\frac{1771.8 \\cdot 1.87219117e-09}{11!} \\right| \\approx 8.31015589e-14\n",
    "$$\n",
    "\n",
    "$$\n",
    "|R_{X}|_{\\max}(1.97) = \\left| \\frac{f^{XI}_{\\max} \\cdot \\omega_{XI}(1.97)}{11!} \\right| \\approx -1.25016667e-12\n",
    "$$\n",
    "\n",
    "$$\n",
    "|R_{X}|_{\\min}(1.97) = \\left| \\frac{f^{XI}_{\\min} \\cdot \\omega_{XI}(1.97)}{11!} \\right|  \\approx -5.27987612e-14\n",
    "$$\n",
    "\n",
    "$$\n",
    "|R_{X}|_{\\max}(1.77) = \\left| \\frac{f^{XI}_{\\max} \\cdot \\omega_{XI}(1.77)}{11!} \\right| \\approx -2.30304671e-14\n",
    "$$\n",
    "\n",
    "$$\n",
    "|R_{X}|_{\\min}(1.77) = \\left| \\frac{f^{XI}_{\\min} \\cdot \\omega_{XI}(1.77)}{11!} \\right|  \\approx -9.72654415e-16\n",
    "$$\n"
   ],
   "id": "c6bd319e056efc84"
  },
  {
   "metadata": {},
   "cell_type": "markdown",
   "source": "### Все вычисленные ошибки попадают в указанные интервалы, кроме вычислений при помощи третьей формулы",
   "id": "248f24ee33e52b36"
  }
 ],
 "metadata": {
  "kernelspec": {
   "display_name": "Python 3",
   "language": "python",
   "name": "python3"
  },
  "language_info": {
   "codemirror_mode": {
    "name": "ipython",
    "version": 2
   },
   "file_extension": ".py",
   "mimetype": "text/x-python",
   "name": "python",
   "nbconvert_exporter": "python",
   "pygments_lexer": "ipython2",
   "version": "2.7.6"
  }
 },
 "nbformat": 4,
 "nbformat_minor": 5
}
