{
 "cells": [
  {
   "cell_type": "code",
   "id": "initial_id",
   "metadata": {
    "collapsed": true,
    "ExecuteTime": {
     "end_time": "2025-05-28T05:22:59.479015Z",
     "start_time": "2025-05-28T05:22:59.471674Z"
    }
   },
   "source": [
    "import numpy as np\n",
    "import pandas as pd"
   ],
   "outputs": [],
   "execution_count": 3
  },
  {
   "metadata": {},
   "cell_type": "markdown",
   "source": [
    "## Метод прогонки\n",
    "\n",
    "**Метод прогонки** *(англ. tridiagonal matrix algorithm)* или **алгоритм Томаса** *(англ. Thomas algorithm)* используется для решения систем линейных уравнений вида $Ax=F$, где $A$ — трёхдиагональная матрица. \n",
    "\n",
    "Система уравнений $Ax = F$ равносильна соотношению\n",
    "\n",
    "$$A_i x_{i-1} + B_i x_i + C_i x_{i+1} = F_i. \\tag{1}$$\n",
    "\n",
    "Метод прогонки основывается на предположении, что искомые неизвестные связаны рекуррентным соотношением:\n",
    "\n",
    "$$x_i = \\alpha_{i+1} x_{i+1} + \\beta_{i+1},$$\n",
    "\n",
    "где $i = n - 1, n - 2, \\ldots, 1. \\tag{2}$\n",
    "\n",
    "Используя это соотношение, выразим $x_{i-1}$ и $x_i$ через $x_{i+1}$ и подставим в уравнение (1):\n",
    "\n",
    "$$(A_i \\alpha_i \\alpha_{i+1} + B_i \\alpha_{i+1} + C_i) x_{i+1} + A_i \\alpha_i \\beta_{i+1} + A_i \\beta_i + B_i \\beta_{i+1} - F_i = 0,$$\n",
    "\n",
    "где $F_i$ — правая часть $i$-го уравнения. Это соотношение будет выполняться независимо от решения, если потребовать\n",
    "\n",
    "$$\n",
    "\\begin{cases} \n",
    "A_i \\alpha_i \\alpha_{i+1} + B_i \\alpha_{i+1} + C_i = 0 \\\\ \n",
    "A_i \\alpha_i \\beta_{i+1} + A_i \\beta_i + B_i \\beta_{i+1} - F_i = 0 \n",
    "\\end{cases}\n",
    "$$\n",
    "\n",
    "Отсюда следует:\n",
    "\n",
    "$$\n",
    "\\begin{cases} \n",
    "\\alpha_{i+1} = -\\frac{C_i}{A_i \\alpha_i + B_i} \\\\ \n",
    "\\beta_{i+1} = \\frac{F_i - A_i \\beta_i}{A_i \\alpha_i + B_i} \n",
    "\\end{cases}\n",
    "$$\n",
    "\n",
    "Из первого уравнения получим:\n",
    "\n",
    "$$\n",
    "\\begin{cases} \n",
    "\\alpha_2 = \\frac{-C_1}{B_1} \\\\ \n",
    "\\beta_2 = \\frac{F_1}{B_1} \n",
    "\\end{cases}\n",
    "$$\n",
    "\n",
    "После нахождения прогоночных коэффициентов $\\alpha$ и $\\beta$, используя уравнение (2), получим решение системы. При этом,\n",
    "\n",
    "$$x_i = \\alpha_{i+1} x_{i+1} + \\beta_{i+1},   i = n - 1, \\ldots, 1$$\n",
    "\n",
    "$$x_n = \\frac{F_n - A_n \\beta_n}{B_n + A_n \\alpha_n}$$"
   ],
   "id": "e02383fb23c14b46"
  },
  {
   "metadata": {
    "ExecuteTime": {
     "end_time": "2025-05-28T05:38:52.265861Z",
     "start_time": "2025-05-28T05:38:52.245409Z"
    }
   },
   "cell_type": "code",
   "source": [
    "def traditional_matrix_algorithm(A: np.ndarray, B: np.ndarray, C: np.ndarray, F: np.ndarray) -> np.ndarray:\n",
    "    n = len(F)\n",
    "    X = np.zeros(n)\n",
    "    \n",
    "    alpha = np.zeros(n)\n",
    "    beta = np.zeros(n)\n",
    "    \n",
    "    alpha[1] = -C[0] / B[0]\n",
    "    beta[1] = F[0] / B[0]\n",
    "    \n",
    "    for i in range(1, n-1):\n",
    "        alpha[i+1] = -C[i] / (B[i] + A[i-1] * alpha[i])\n",
    "        beta[i+1] = (F[i] - A[i-1] * beta[i]) / (B[i] + A[i-1] * alpha[i]) \n",
    "    \n",
    "    X[-1] = (F[-1] - A[-1] * beta[-1]) / (A[-1] * alpha[-1] + B[-1])\n",
    "    \n",
    "    for i in range(n - 2, -1, -1):\n",
    "        X[i] = alpha[i+1] * X[i+1] + beta[i+1]\n",
    "        \n",
    "    return X"
   ],
   "id": "f5b51d6c2952ccf",
   "outputs": [],
   "execution_count": 22
  },
  {
   "metadata": {},
   "cell_type": "markdown",
   "source": [
    "## Пример использования функции для рещения простой СЛАУ\n",
    "\n",
    "$$\n",
    "\\begin{cases} \n",
    "2x_1 + x_2 = 3 \\\\ \n",
    "x_1 + 2x_2 + x_3 = 4 \\\\ \n",
    "x_2 + 2x_3 + x_4 = 4 \\\\ \n",
    "x_3 + 2x_4 = 3 \n",
    "\\end{cases}\n",
    "$$\n",
    "\n",
    "**Система в матричной форме:**\n",
    "$$\n",
    "A \\cdot x = b \\quad \\Rightarrow \\quad \n",
    "\\begin{pmatrix} \n",
    "2 & 1 & 0 & 0 \\\\ \n",
    "1 & 2 & 1 & 0 \\\\ \n",
    "0 & 1 & 2 & 1 \\\\ \n",
    "0 & 0 & 1 & 2 \n",
    "\\end{pmatrix}\n",
    "\\cdot \n",
    "\\begin{pmatrix} \n",
    "x_1 \\\\ \n",
    "x_2 \\\\ \n",
    "x_3 \\\\ \n",
    "x_4 \n",
    "\\end{pmatrix}\n",
    "= \n",
    "\\begin{pmatrix} \n",
    "3 \\\\ \n",
    "4 \\\\ \n",
    "4 \\\\ \n",
    "3 \n",
    "\\end{pmatrix}\n",
    "$$\n",
    "\n",
    "Решение:\n",
    "\n",
    "$$\n",
    "\\begin{cases} \n",
    "x_1 = 1 \\\\ \n",
    "x_2 = 1 \\\\ \n",
    "x_3 = 1 \\\\ \n",
    "x_4 = 1 \n",
    "\\end{cases}\n",
    "$$\n",
    "\n"
   ],
   "id": "e0911c49de76cba8"
  },
  {
   "metadata": {
    "ExecuteTime": {
     "end_time": "2025-05-28T06:07:05.724386Z",
     "start_time": "2025-05-28T06:07:05.711602Z"
    }
   },
   "cell_type": "code",
   "source": [
    "A = [1, 1, 1]\n",
    "B = [2, 2, 2, 2]\n",
    "C = [1, 1, 1]\n",
    "F = [3, 4, 4, 3]\n",
    "traditional_matrix_algorithm(A, B, C, F)"
   ],
   "id": "474ab1403368c718",
   "outputs": [
    {
     "data": {
      "text/plain": [
       "array([1., 1., 1., 1.])"
      ]
     },
     "execution_count": 30,
     "metadata": {},
     "output_type": "execute_result"
    }
   ],
   "execution_count": 30
  },
  {
   "metadata": {},
   "cell_type": "markdown",
   "source": "",
   "id": "94d32a6b8780326c"
  }
 ],
 "metadata": {
  "kernelspec": {
   "display_name": "Python 3",
   "language": "python",
   "name": "python3"
  },
  "language_info": {
   "codemirror_mode": {
    "name": "ipython",
    "version": 2
   },
   "file_extension": ".py",
   "mimetype": "text/x-python",
   "name": "python",
   "nbconvert_exporter": "python",
   "pygments_lexer": "ipython2",
   "version": "2.7.6"
  }
 },
 "nbformat": 4,
 "nbformat_minor": 5
}
