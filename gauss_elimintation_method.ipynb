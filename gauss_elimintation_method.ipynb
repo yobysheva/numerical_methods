{
 "cells": [
  {
   "cell_type": "code",
   "id": "initial_id",
   "metadata": {
    "collapsed": true,
    "ExecuteTime": {
     "end_time": "2025-10-13T06:33:15.330483Z",
     "start_time": "2025-10-13T06:33:15.319879Z"
    }
   },
   "source": "import numpy as np",
   "outputs": [],
   "execution_count": 2
  },
  {
   "metadata": {
    "ExecuteTime": {
     "end_time": "2025-10-13T06:41:54.173366Z",
     "start_time": "2025-10-13T06:41:54.146364Z"
    }
   },
   "cell_type": "code",
   "source": [
    "def optimal_elimination_literal(a: np.ndarray, b: np.ndarray, show_annotation: bool = False) -> np.ndarray:\n",
    "    \n",
    "    if a.shape[0] != a.shape[1]:\n",
    "        raise ValueError(\"Matrix a must be square\")\n",
    "    \n",
    "    if a.shape[0] != b.shape[0]:\n",
    "        raise ValueError(\"Dimensions of a and b must match\")\n",
    "    \n",
    "    det_a = np.linalg.det(a)\n",
    "    if abs(det_a) < 1e-12:\n",
    "        raise ValueError(\"Determinant is near zero — no unique solution\")\n",
    "    \n",
    "    n = len(b)\n",
    "    \n",
    "    E = np.zeros((n, n + 1), dtype=float)\n",
    "    E[:, :n] = a.astype(float)\n",
    "    E[:, n] = b.astype(float)\n",
    "\n",
    "    cols = np.arange(n, dtype=int)\n",
    "\n",
    "    if show_annotation:\n",
    "        print(\"System:\\n\", E, \"\\ncols:\", cols, \"\\n\")\n",
    "\n",
    "    for k in range(n):\n",
    "        # максимальный элемент в строке, с последующей перестановкой строк\n",
    "        p = k + int(np.argmax(np.abs(E[k, k:n])))\n",
    "\n",
    "        if abs(E[k, p]) < 1e-12:\n",
    "            raise ValueError(f\"Zero leading element at step {k}, column {p}\")\n",
    "\n",
    "        if p != k:\n",
    "            E[:, [k, p]] = E[:, [p, k]]\n",
    "            cols[[k, p]] = cols[[p, k]]\n",
    "            if show_annotation:\n",
    "                print(f\"Step {k+1}: swapped columns {k} and {p}\")\n",
    "\n",
    "        E_next = E.copy()\n",
    "\n",
    "        if k == 0:\n",
    "            denom = E[0, 0]\n",
    "        else:\n",
    "            denom = E[k, k] - sum(E[r, k] * E[k, r] for r in range(0, k))\n",
    "\n",
    "        if abs(denom) <1e-12:\n",
    "            raise ValueError(f\"Denominator near zero at step {k}\")\n",
    "\n",
    "        # k-я строка для столбцов p = k..n\n",
    "        for pcol in range(0, n + 1):\n",
    "            numer = E[k, pcol]\n",
    "            if k > 0:\n",
    "                numer -= sum(E[r, pcol] * E[k, r] for r in range(0, k))\n",
    "            E_next[k, pcol] = numer / denom\n",
    "\n",
    "        # теперь для i = 0..k-1 и p = k+1..n\n",
    "        for i in range(0, k):\n",
    "            for pcol in range(k + 1, n + 1):\n",
    "                E_next[i, pcol] = E[i, pcol] - E_next[k, pcol] * E[i, k]\n",
    "            E_next[i, k] = 0\n",
    "\n",
    "        E_next[k, k] = 1\n",
    "\n",
    "        E = E_next\n",
    "\n",
    "        if show_annotation:\n",
    "            print(f\"After step {k+1}:\")\n",
    "            print(E)\n",
    "            print(\"cols:\", cols, \"\\n\")\n",
    "\n",
    "    x_perm = E[:, n].copy()\n",
    "\n",
    "    ans = np.zeros(n, dtype=float)\n",
    "    for j in range(n):\n",
    "        ans[cols[j]] = x_perm[j]\n",
    "\n",
    "    return ans"
   ],
   "id": "9fcb87e96c961b3a",
   "outputs": [],
   "execution_count": 10
  },
  {
   "metadata": {
    "ExecuteTime": {
     "end_time": "2025-10-13T06:41:56.714259Z",
     "start_time": "2025-10-13T06:41:56.696494Z"
    }
   },
   "cell_type": "code",
   "source": [
    "a = np.array([[2, 3, 2], [2, 3, 4], [3, 4, 5]])\n",
    "b = np.array([7, 9, 12])\n",
    "optimal_elimination_literal(a, b, show_annotation=True)"
   ],
   "id": "f7428e61682cb5d4",
   "outputs": [
    {
     "name": "stdout",
     "output_type": "stream",
     "text": [
      "System:\n",
      " [[ 2.  3.  2.  7.]\n",
      " [ 2.  3.  4.  9.]\n",
      " [ 3.  4.  5. 12.]] \n",
      "cols: [0 1 2] \n",
      "\n",
      "Step 1: swapped columns 0 and 1\n",
      "After step 1:\n",
      "[[ 1.          0.66666667  0.66666667  2.33333333]\n",
      " [ 3.          2.          4.          9.        ]\n",
      " [ 4.          3.          5.         12.        ]]\n",
      "cols: [1 0 2] \n",
      "\n",
      "Step 2: swapped columns 1 and 2\n",
      "After step 2:\n",
      "[[ 1.          0.          0.66666667  1.66666667]\n",
      " [ 0.          1.          0.          1.        ]\n",
      " [ 4.          5.          3.         12.        ]]\n",
      "cols: [1 2 0] \n",
      "\n",
      "After step 3:\n",
      "[[1. 0. 0. 1.]\n",
      " [0. 1. 0. 1.]\n",
      " [0. 0. 1. 1.]]\n",
      "cols: [1 2 0] \n",
      "\n"
     ]
    },
    {
     "data": {
      "text/plain": [
       "array([1., 1., 1.])"
      ]
     },
     "execution_count": 11,
     "metadata": {},
     "output_type": "execute_result"
    }
   ],
   "execution_count": 11
  }
 ],
 "metadata": {
  "kernelspec": {
   "display_name": "Python 3",
   "language": "python",
   "name": "python3"
  },
  "language_info": {
   "codemirror_mode": {
    "name": "ipython",
    "version": 2
   },
   "file_extension": ".py",
   "mimetype": "text/x-python",
   "name": "python",
   "nbconvert_exporter": "python",
   "pygments_lexer": "ipython2",
   "version": "2.7.6"
  }
 },
 "nbformat": 4,
 "nbformat_minor": 5
}
