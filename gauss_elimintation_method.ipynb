{
 "cells": [
  {
   "cell_type": "code",
   "id": "initial_id",
   "metadata": {
    "collapsed": true,
    "ExecuteTime": {
     "end_time": "2025-10-16T13:30:00.111040Z",
     "start_time": "2025-10-16T13:29:58.758550Z"
    }
   },
   "source": "import numpy as np",
   "outputs": [],
   "execution_count": 1
  },
  {
   "metadata": {},
   "cell_type": "markdown",
   "source": "![Метод оптимального исключения](elimination.jpg)",
   "id": "9ef3883d2e2d8771"
  },
  {
   "metadata": {
    "ExecuteTime": {
     "end_time": "2025-10-16T13:36:55.492764Z",
     "start_time": "2025-10-16T13:36:55.454278Z"
    }
   },
   "cell_type": "code",
   "source": [
    "def optimal_elimination(a: np.ndarray, b: np.ndarray, show_annotation: bool = False) -> np.ndarray:\n",
    "    \n",
    "    if a.shape[0] != a.shape[1]:\n",
    "        raise ValueError(\"Matrix a must be square\")\n",
    "    \n",
    "    if a.shape[0] != b.shape[0]:\n",
    "        raise ValueError(\"Dimensions of a and b must match\")\n",
    "    \n",
    "    det_a = np.linalg.det(a)\n",
    "    if abs(det_a) < 1e-12:\n",
    "        raise ValueError(\"Determinant is near zero — no unique solution\")\n",
    "    \n",
    "    n = len(b)\n",
    "    \n",
    "    ab = np.zeros((n, n + 1), dtype=float)\n",
    "    ab[:, :n] = a.astype(float)\n",
    "    ab[:, n] = b.astype(float)\n",
    "\n",
    "    cols = np.arange(n, dtype=int)\n",
    "\n",
    "    if show_annotation:\n",
    "        print(\"System:\\n\", ab, \"\\ncols:\", cols, \"\\n\")\n",
    "\n",
    "    for k in range(n):\n",
    "        p = k + int(np.argmax(np.abs(ab[k, k:n])))\n",
    "\n",
    "        if p != k:\n",
    "            ab[:, [k, p]] = ab[:, [p, k]]\n",
    "            cols[[k, p]] = cols[[p, k]]\n",
    "            if show_annotation:\n",
    "                print(f\"Step {k+1}: swap columns {k} and {p}\")\n",
    "\n",
    "        ab_next = ab.copy()\n",
    "\n",
    "        if k == 0:\n",
    "            denom = ab[0, 0]\n",
    "        else:\n",
    "            denom = ab[k, k] - sum(ab[r, k] * ab[k, r] for r in range(0, k))\n",
    "\n",
    "        # k-я строка для столбцов p = k..n \n",
    "        # (2)\n",
    "        for p in range(0, n + 1):\n",
    "            numer = ab[k, p]\n",
    "            if k > 0:\n",
    "                numer -= sum(ab[r, p] * ab[k, r] for r in range(0, k))\n",
    "            ab_next[k, p] = numer / denom\n",
    "\n",
    "        # i = 0..k-1, p = k+1..n \n",
    "        # (3)\n",
    "        for i in range(0, k):\n",
    "            for p in range(k + 1, n + 1):\n",
    "                ab_next[i, p] = ab[i, p] - ab_next[k, p] * ab[i, k]\n",
    "            ab_next[i, k] = 0\n",
    "\n",
    "        ab_next[k, k] = 1\n",
    "\n",
    "        ab = ab_next\n",
    "\n",
    "        if show_annotation:\n",
    "            print(f\"After step {k+1}:\")\n",
    "            print(ab)\n",
    "            print(\"cols:\", cols, \"\\n\")\n",
    "\n",
    "    x_perm = ab[:, n].copy()\n",
    "\n",
    "    ans = np.zeros(n, dtype=float)\n",
    "    for j in range(n):\n",
    "        ans[cols[j]] = x_perm[j]\n",
    "\n",
    "    return ans"
   ],
   "id": "9fcb87e96c961b3a",
   "outputs": [],
   "execution_count": 9
  },
  {
   "metadata": {
    "ExecuteTime": {
     "end_time": "2025-10-16T13:30:00.265993Z",
     "start_time": "2025-10-16T13:30:00.200630Z"
    }
   },
   "cell_type": "code",
   "source": [
    "a = np.array([[2, 3, 2], [2, 3, 4], [3, 4, 5]])\n",
    "b = np.array([7, 9, 12])\n",
    "optimal_elimination(a, b, show_annotation=True)"
   ],
   "id": "f7428e61682cb5d4",
   "outputs": [
    {
     "name": "stdout",
     "output_type": "stream",
     "text": [
      "System:\n",
      " [[ 2.  3.  2.  7.]\n",
      " [ 2.  3.  4.  9.]\n",
      " [ 3.  4.  5. 12.]] \n",
      "cols: [0 1 2] \n",
      "\n",
      "Step 1: swap columns 0 and 1\n",
      "After step 1:\n",
      "[[ 1.          0.66666667  0.66666667  2.33333333]\n",
      " [ 3.          2.          4.          9.        ]\n",
      " [ 4.          3.          5.         12.        ]]\n",
      "cols: [1 0 2] \n",
      "\n",
      "Step 2: swap columns 1 and 2\n",
      "After step 2:\n",
      "[[ 1.          0.          0.66666667  1.66666667]\n",
      " [ 0.          1.          0.          1.        ]\n",
      " [ 4.          5.          3.         12.        ]]\n",
      "cols: [1 2 0] \n",
      "\n",
      "After step 3:\n",
      "[[1. 0. 0. 1.]\n",
      " [0. 1. 0. 1.]\n",
      " [0. 0. 1. 1.]]\n",
      "cols: [1 2 0] \n",
      "\n"
     ]
    },
    {
     "data": {
      "text/plain": [
       "array([1., 1., 1.])"
      ]
     },
     "execution_count": 3,
     "metadata": {},
     "output_type": "execute_result"
    }
   ],
   "execution_count": 3
  },
  {
   "metadata": {
    "ExecuteTime": {
     "end_time": "2025-10-16T13:37:06.653571Z",
     "start_time": "2025-10-16T13:37:06.614773Z"
    }
   },
   "cell_type": "code",
   "source": [
    "systems = [\n",
    "    (np.array([[2, 3], [1, -1]], dtype=float), np.array([8, 0], dtype=float)),\n",
    "    \n",
    "    (np.array([[2, 3, 2],\n",
    "               [2, 3, 4],\n",
    "               [3, 4, 5]], dtype=float), np.array([7, 9, 12], dtype=float)),\n",
    "    \n",
    "    (np.array([[4, 2, 0, 1],\n",
    "               [3, 1, -1, 2],\n",
    "               [2, -1, 3, 1],\n",
    "               [1, 0, 2, 1]], dtype=float), np.array([10, 8, 7, 3], dtype=float)),\n",
    "    \n",
    "    (np.array([[2, 1, 3, 2, 4],\n",
    "               [1, 2, 0, 1, 3],\n",
    "               [3, 0, 2, 1, 1],\n",
    "               [2, 1, 1, 3, 2],\n",
    "               [1, 3, 2, 0, 1]], dtype=float), np.array([10, 6, 7, 9, 5], dtype=float)),\n",
    "    \n",
    "    (np.array([[1, 2, 1, 3, 2, 1],\n",
    "               [2, 1, 3, 1, 2, 1],\n",
    "               [3, 2, 1, 2, 1, 3],\n",
    "               [1, 3, 2, 1, 3, 2],\n",
    "               [2, 1, 2, 3, 1, 2],\n",
    "               [1, 2, 3, 1, 2, 1]], dtype=float), np.array([10, 11, 12, 13, 14, 15], dtype=float)),\n",
    "]\n",
    "\n",
    "\n",
    "np.random.seed(42)\n",
    "systems.append((np.random.rand(10, 10) * 10, np.random.rand(10) * 10))\n",
    "systems.append((np.random.rand(20, 20) * 10, np.random.rand(20) * 10))\n",
    "\n",
    "for idx, (A, b) in enumerate(systems, start=1):\n",
    "    print(f\"\\n{A.shape[0]}x{A.shape[1]}\")\n",
    "    try:\n",
    "        result = optimal_elimination(A, b)\n",
    "        expected = np.linalg.solve(A, b)\n",
    "        print(\"Максимальная абсолютная погрешность:\", np.max(np.abs(result - expected)))\n",
    "        \n",
    "    except ValueError as e:\n",
    "        print(e)\n"
   ],
   "id": "5d445ea55190325b",
   "outputs": [
    {
     "name": "stdout",
     "output_type": "stream",
     "text": [
      "\n",
      "2x2\n",
      "Максимальная абсолютная погрешность: 4.440892098500626e-16\n",
      "OK\n",
      "\n",
      "3x3\n",
      "Максимальная абсолютная погрешность: 5.773159728050814e-15\n",
      "OK\n",
      "\n",
      "4x4\n",
      "Максимальная абсолютная погрешность: 0.0\n",
      "OK\n",
      "\n",
      "5x5\n",
      "Максимальная абсолютная погрешность: 8.881784197001252e-16\n",
      "OK\n",
      "\n",
      "6x6\n",
      "Максимальная абсолютная погрешность: 1.4432899320127035e-15\n",
      "OK\n",
      "\n",
      "10x10\n",
      "Максимальная абсолютная погрешность: 1.509903313490213e-14\n",
      "OK\n",
      "\n",
      "20x20\n",
      "Максимальная абсолютная погрешность: 8.43769498715119e-14\n",
      "OK\n"
     ]
    }
   ],
   "execution_count": 10
  },
  {
   "metadata": {
    "ExecuteTime": {
     "end_time": "2025-10-16T13:48:39.127961Z",
     "start_time": "2025-10-16T13:43:22.462379Z"
    }
   },
   "cell_type": "code",
   "source": [
    "import time\n",
    "def test_large_system(n):\n",
    "    print(f\"\\n{n}x{n}\")\n",
    "    np.random.seed(42)\n",
    "    A = np.random.rand(n, n) * 10\n",
    "    b = np.random.rand(n) * 10\n",
    "\n",
    "    start = time.time()\n",
    "    result = optimal_elimination(A, b)\n",
    "    elapsed_gauss = time.time() - start\n",
    "    \n",
    "    start = time.time()\n",
    "    expected = np.linalg.solve(A, b)\n",
    "    elapsed_numpy = time.time() - start\n",
    "\n",
    "    max_error = np.max(np.abs(result - expected))\n",
    "    print(f\"Максимальная абсолютная погрешность: {max_error:.2e}\")\n",
    "    print(f\"Время Гаусс = {elapsed_gauss:.4f}s, NumPy = {elapsed_numpy:.4f}s\")\n",
    "\n",
    "test_large_system(50)\n",
    "test_large_system(100)\n",
    "test_large_system(300)\n",
    "test_large_system(500)\n",
    "test_large_system(800)"
   ],
   "id": "c2409a1b0a94c32",
   "outputs": [
    {
     "name": "stdout",
     "output_type": "stream",
     "text": [
      "\n",
      "50x50\n",
      "Максимальная абсолютная погрешность: 3.58e-13\n",
      "Время Гаусс = 0.0880s, NumPy = 0.0000s\n",
      "ОК\n",
      "\n",
      "100x100\n",
      "Максимальная абсолютная погрешность: 2.85e-12\n",
      "Время Гаусс = 0.7484s, NumPy = 0.0000s\n",
      "ОК\n",
      "\n",
      "300x300\n",
      "Максимальная абсолютная погрешность: 7.37e-12\n",
      "Время Гаусс = 17.2830s, NumPy = 0.0020s\n",
      "ОК\n",
      "\n",
      "500x500\n",
      "Максимальная абсолютная погрешность: 2.25e-11\n",
      "Время Гаусс = 73.1920s, NumPy = 0.0140s\n",
      "ОК\n",
      "\n",
      "800x800\n"
     ]
    },
    {
     "ename": "KeyboardInterrupt",
     "evalue": "",
     "output_type": "error",
     "traceback": [
      "\u001B[31m---------------------------------------------------------------------------\u001B[39m",
      "\u001B[31mKeyboardInterrupt\u001B[39m                         Traceback (most recent call last)",
      "\u001B[36mCell\u001B[39m\u001B[36m \u001B[39m\u001B[32mIn[13]\u001B[39m\u001B[32m, line 28\u001B[39m\n\u001B[32m     26\u001B[39m test_large_system(\u001B[32m300\u001B[39m)\n\u001B[32m     27\u001B[39m test_large_system(\u001B[32m500\u001B[39m)\n\u001B[32m---> \u001B[39m\u001B[32m28\u001B[39m \u001B[43mtest_large_system\u001B[49m\u001B[43m(\u001B[49m\u001B[32;43m800\u001B[39;49m\u001B[43m)\u001B[49m\n",
      "\u001B[36mCell\u001B[39m\u001B[36m \u001B[39m\u001B[32mIn[13]\u001B[39m\u001B[32m, line 9\u001B[39m, in \u001B[36mtest_large_system\u001B[39m\u001B[34m(n)\u001B[39m\n\u001B[32m      6\u001B[39m b = np.random.rand(n) * \u001B[32m10\u001B[39m\n\u001B[32m      8\u001B[39m start = time.time()\n\u001B[32m----> \u001B[39m\u001B[32m9\u001B[39m result = \u001B[43moptimal_elimination\u001B[49m\u001B[43m(\u001B[49m\u001B[43mA\u001B[49m\u001B[43m,\u001B[49m\u001B[43m \u001B[49m\u001B[43mb\u001B[49m\u001B[43m)\u001B[49m\n\u001B[32m     10\u001B[39m elapsed_gauss = time.time() - start\n\u001B[32m     12\u001B[39m start = time.time()\n",
      "\u001B[36mCell\u001B[39m\u001B[36m \u001B[39m\u001B[32mIn[9]\u001B[39m\u001B[32m, line 45\u001B[39m, in \u001B[36moptimal_elimination\u001B[39m\u001B[34m(a, b, show_annotation)\u001B[39m\n\u001B[32m     43\u001B[39m     numer = E[k, p]\n\u001B[32m     44\u001B[39m     \u001B[38;5;28;01mif\u001B[39;00m k > \u001B[32m0\u001B[39m:\n\u001B[32m---> \u001B[39m\u001B[32m45\u001B[39m         numer -= \u001B[38;5;28msum\u001B[39m(E[r, p] * E[k, r] \u001B[38;5;28;01mfor\u001B[39;00m r \u001B[38;5;129;01min\u001B[39;00m \u001B[38;5;28mrange\u001B[39m(\u001B[32m0\u001B[39m, k))\n\u001B[32m     46\u001B[39m     E_next[k, p] = numer / denom\n\u001B[32m     48\u001B[39m \u001B[38;5;66;03m# i = 0..k-1, p = k+1..n \u001B[39;00m\n\u001B[32m     49\u001B[39m \u001B[38;5;66;03m# (3)\u001B[39;00m\n",
      "\u001B[36mCell\u001B[39m\u001B[36m \u001B[39m\u001B[32mIn[9]\u001B[39m\u001B[32m, line 45\u001B[39m, in \u001B[36m<genexpr>\u001B[39m\u001B[34m(.0)\u001B[39m\n\u001B[32m     43\u001B[39m     numer = E[k, p]\n\u001B[32m     44\u001B[39m     \u001B[38;5;28;01mif\u001B[39;00m k > \u001B[32m0\u001B[39m:\n\u001B[32m---> \u001B[39m\u001B[32m45\u001B[39m         numer -= \u001B[38;5;28msum\u001B[39m(E[r, p] * E[k, r] \u001B[38;5;28;01mfor\u001B[39;00m r \u001B[38;5;129;01min\u001B[39;00m \u001B[38;5;28mrange\u001B[39m(\u001B[32m0\u001B[39m, k))\n\u001B[32m     46\u001B[39m     E_next[k, p] = numer / denom\n\u001B[32m     48\u001B[39m \u001B[38;5;66;03m# i = 0..k-1, p = k+1..n \u001B[39;00m\n\u001B[32m     49\u001B[39m \u001B[38;5;66;03m# (3)\u001B[39;00m\n",
      "\u001B[31mKeyboardInterrupt\u001B[39m: "
     ]
    }
   ],
   "execution_count": 13
  }
 ],
 "metadata": {
  "kernelspec": {
   "display_name": "Python 3",
   "language": "python",
   "name": "python3"
  },
  "language_info": {
   "codemirror_mode": {
    "name": "ipython",
    "version": 2
   },
   "file_extension": ".py",
   "mimetype": "text/x-python",
   "name": "python",
   "nbconvert_exporter": "python",
   "pygments_lexer": "ipython2",
   "version": "2.7.6"
  }
 },
 "nbformat": 4,
 "nbformat_minor": 5
}
