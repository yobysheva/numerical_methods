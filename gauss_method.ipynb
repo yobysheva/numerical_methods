{
 "cells": [
  {
   "cell_type": "code",
   "id": "initial_id",
   "metadata": {
    "collapsed": true,
    "ExecuteTime": {
     "end_time": "2025-10-11T07:47:52.335872Z",
     "start_time": "2025-10-11T07:47:51.239872Z"
    }
   },
   "source": "import numpy as np",
   "outputs": [],
   "execution_count": 1
  },
  {
   "metadata": {
    "ExecuteTime": {
     "end_time": "2025-10-11T11:56:45.225080Z",
     "start_time": "2025-10-11T11:56:45.206626Z"
    }
   },
   "cell_type": "code",
   "source": [
    "def gauss_method_column(a : np.ndarray[np.ndarray[float]], b :np.ndarray[float], show_annotation : bool = False) -> np.ndarray[float]:\n",
    "    if a.shape[0] != b.shape[0]:\n",
    "        raise ValueError(\"The dimensions of the two arrays must match\")\n",
    "    \n",
    "    det_a = np.linalg.det(a)\n",
    "    if abs(det_a) < 1e-12:\n",
    "        raise ValueError(\"Determinant is zero — system has no unique solution\")\n",
    "    \n",
    "    n = len(b)\n",
    "    a = a.astype(float)\n",
    "    b = b.astype(float)\n",
    "    if show_annotation:\n",
    "        print(\"System: \", a, b, \"\\n\")\n",
    "    \n",
    "    order = np.array([-1] * n)\n",
    "    \n",
    "    for i in range(n):\n",
    "        max_row = -1\n",
    "        max_val = 0\n",
    "        \n",
    "        for j in range(n):\n",
    "            if j in order[:i]:\n",
    "                continue\n",
    "            if abs(a[j][i]) > abs(max_val):\n",
    "                max_val = a[j][i]\n",
    "                max_row = j\n",
    "        \n",
    "        if max_row == -1 or abs(max_val) < 1e-12:\n",
    "            raise ValueError(\"Zero column detected — system has no unique solution\")\n",
    "        \n",
    "        o = max_row\n",
    "        order[i] = o\n",
    "        lead_el = a[o][i]\n",
    "        \n",
    "        for j in range(n):    \n",
    "            if j in order[:i+1]:\n",
    "                continue\n",
    "            if j == o:\n",
    "                continue\n",
    "            factor = a[j][i] / lead_el\n",
    "            a[j] = a[j] - factor * a[o]\n",
    "            b[j] = b[j] - factor * b[o]\n",
    "            a[j][i] = 0\n",
    "        \n",
    "        a[o] = a[o] / lead_el\n",
    "        b[o] = b[o] / lead_el\n",
    "        a[o][i] = 1\n",
    "        \n",
    "        if show_annotation:\n",
    "            print(f\"Step {i + 1}: \\n Row chosen: \", o + 1, \"\\n\", a, b, \"\\n\")\n",
    "    \n",
    "    ans = np.zeros(n)\n",
    "    for i in range(n - 1, -1, -1):\n",
    "        row_num = order[i]\n",
    "        xi = b[row_num]\n",
    "        for j in range(i + 1, n):\n",
    "            xi -= a[row_num][j] * ans[j]\n",
    "        ans[i] = xi\n",
    "    return ans"
   ],
   "id": "4b4323c1efee2c63",
   "outputs": [],
   "execution_count": 141
  },
  {
   "metadata": {
    "ExecuteTime": {
     "end_time": "2025-10-11T11:56:49.169480Z",
     "start_time": "2025-10-11T11:56:49.157380Z"
    }
   },
   "cell_type": "code",
   "source": [
    "a = np.array([[2, 3, 2], [2, 3, 4], [3, 4, 5]])\n",
    "b = np.array([7, 9, 12])\n",
    "gauss_method_column(a, b, show_annotation=True)"
   ],
   "id": "78805faed7c0cf58",
   "outputs": [
    {
     "name": "stdout",
     "output_type": "stream",
     "text": [
      "System:  [[2. 3. 2.]\n",
      " [2. 3. 4.]\n",
      " [3. 4. 5.]] [ 7.  9. 12.] \n",
      "\n",
      "Step 1: \n",
      " Row chosen:  3 \n",
      " [[ 0.          0.33333333 -1.33333333]\n",
      " [ 0.          0.33333333  0.66666667]\n",
      " [ 1.          1.33333333  1.66666667]] [-1.  1.  4.] \n",
      "\n",
      "Step 2: \n",
      " Row chosen:  1 \n",
      " [[ 0.          1.         -4.        ]\n",
      " [ 0.          0.          2.        ]\n",
      " [ 1.          1.33333333  1.66666667]] [-3.  2.  4.] \n",
      "\n",
      "Step 3: \n",
      " Row chosen:  2 \n",
      " [[ 0.          1.         -4.        ]\n",
      " [ 0.          0.          1.        ]\n",
      " [ 1.          1.33333333  1.66666667]] [-3.  1.  4.] \n",
      "\n"
     ]
    },
    {
     "data": {
      "text/plain": [
       "array([1., 1., 1.])"
      ]
     },
     "execution_count": 142,
     "metadata": {},
     "output_type": "execute_result"
    }
   ],
   "execution_count": 142
  },
  {
   "metadata": {
    "ExecuteTime": {
     "end_time": "2025-10-11T12:10:14.248113Z",
     "start_time": "2025-10-11T12:10:14.221751Z"
    }
   },
   "cell_type": "code",
   "source": [
    "systems = [\n",
    "    (np.array([[2, 3], [1, -1]], dtype=float), np.array([8, 0], dtype=float)),\n",
    "    \n",
    "    (np.array([[2, 3, 2],\n",
    "               [2, 3, 4],\n",
    "               [3, 4, 5]], dtype=float), np.array([7, 9, 12], dtype=float)),\n",
    "    \n",
    "    (np.array([[4, 2, 0, 1],\n",
    "               [3, 1, -1, 2],\n",
    "               [2, -1, 3, 1],\n",
    "               [1, 0, 2, 1]], dtype=float), np.array([10, 8, 7, 3], dtype=float)),\n",
    "    \n",
    "    (np.array([[2, 1, 3, 2, 4],\n",
    "               [1, 2, 0, 1, 3],\n",
    "               [3, 0, 2, 1, 1],\n",
    "               [2, 1, 1, 3, 2],\n",
    "               [1, 3, 2, 0, 1]], dtype=float), np.array([10, 6, 7, 9, 5], dtype=float)),\n",
    "    \n",
    "    (np.array([[1, 2, 1, 3, 2, 1],\n",
    "               [2, 1, 3, 1, 2, 1],\n",
    "               [3, 2, 1, 2, 1, 3],\n",
    "               [1, 3, 2, 1, 3, 2],\n",
    "               [2, 1, 2, 3, 1, 2],\n",
    "               [1, 2, 3, 1, 2, 1]], dtype=float), np.array([10, 11, 12, 13, 14, 15], dtype=float)),\n",
    "]\n",
    "\n",
    "\n",
    "np.random.seed(42)\n",
    "systems.append((np.random.rand(10, 10) * 10, np.random.rand(10) * 10))\n",
    "systems.append((np.random.rand(20, 20) * 10, np.random.rand(20) * 10))\n",
    "\n",
    "for idx, (A, b) in enumerate(systems, start=1):\n",
    "    print(f\"\\n{A.shape[0]}x{A.shape[1]}\")\n",
    "    try:\n",
    "        result = gauss_method_column(A.copy(), b.copy())\n",
    "        expected = np.linalg.solve(A, b)\n",
    "        print(\"Максимальная абсолютная погрешность:\", np.max(np.abs(result - expected)))\n",
    "        if np.allclose(result, expected):\n",
    "            print(\"OK\")\n",
    "        else:\n",
    "            print(\"Ответы отличаются\")\n",
    "    except ValueError as e:\n",
    "        print(e)\n"
   ],
   "id": "7398b3493794044f",
   "outputs": [
    {
     "name": "stdout",
     "output_type": "stream",
     "text": [
      "\n",
      "2x2\n",
      "Максимальная абсолютная погрешность: 0.0\n",
      "OK\n",
      "\n",
      "3x3\n",
      "Максимальная абсолютная погрешность: 2.220446049250313e-16\n",
      "OK\n",
      "\n",
      "4x4\n",
      "Максимальная абсолютная погрешность: 0.0\n",
      "OK\n",
      "\n",
      "5x5\n",
      "Максимальная абсолютная погрешность: 4.440892098500626e-16\n",
      "OK\n",
      "\n",
      "6x6\n",
      "Максимальная абсолютная погрешность: 3.552713678800501e-15\n",
      "OK\n",
      "\n",
      "10x10\n",
      "Максимальная абсолютная погрешность: 1.1102230246251565e-15\n",
      "OK\n",
      "\n",
      "20x20\n",
      "Максимальная абсолютная погрешность: 3.6415315207705135e-14\n",
      "OK\n"
     ]
    }
   ],
   "execution_count": 147
  },
  {
   "metadata": {
    "ExecuteTime": {
     "end_time": "2025-10-11T12:14:45.443977Z",
     "start_time": "2025-10-11T12:14:24.837967Z"
    }
   },
   "cell_type": "code",
   "source": [
    "import time\n",
    "def test_large_system(n):\n",
    "    print(f\"\\n{n}x{n}\")\n",
    "    np.random.seed(42)\n",
    "    A = np.random.rand(n, n) * 10\n",
    "    b = np.random.rand(n) * 10\n",
    "\n",
    "    start = time.time()\n",
    "    result = gauss_method_column(A.copy(), b.copy())\n",
    "    elapsed_gauss = time.time() - start\n",
    "    \n",
    "    start = time.time()\n",
    "    expected = np.linalg.solve(A, b)\n",
    "    elapsed_numpy = time.time() - start\n",
    "\n",
    "    max_error = np.max(np.abs(result - expected))\n",
    "    print(f\"Максимальная абсолютная погрешность: {max_error:.2e}\")\n",
    "    print(f\"Время Гаусс = {elapsed_gauss:.4f}s, NumPy = {elapsed_numpy:.4f}s\")\n",
    "    if np.allclose(result, expected):\n",
    "        print(\"ОК\")\n",
    "    else:\n",
    "        print(\"Ответы отличаются\")\n",
    "\n",
    "test_large_system(50)\n",
    "test_large_system(100)\n",
    "test_large_system(300)\n",
    "test_large_system(500)\n",
    "test_large_system(800)\n",
    "test_large_system(1000)"
   ],
   "id": "c87bd4ea5b89ffb0",
   "outputs": [
    {
     "name": "stdout",
     "output_type": "stream",
     "text": [
      "\n",
      "50x50\n",
      "Максимальная абсолютная погрешность: 4.55e-15\n",
      "Время Гаусс = 0.0297s, NumPy = 0.0000s\n",
      "ОК\n",
      "\n",
      "100x100\n",
      "Максимальная абсолютная погрешность: 9.96e-15\n",
      "Время Гаусс = 0.0864s, NumPy = 0.0000s\n",
      "ОК\n",
      "\n",
      "300x300\n",
      "Максимальная абсолютная погрешность: 3.70e-13\n",
      "Время Гаусс = 1.3821s, NumPy = 0.0000s\n",
      "ОК\n",
      "\n",
      "500x500\n",
      "Максимальная абсолютная погрешность: 2.98e-13\n",
      "Время Гаусс = 3.0793s, NumPy = 0.0168s\n",
      "ОК\n",
      "\n",
      "800x800\n",
      "Максимальная абсолютная погрешность: 6.45e-13\n",
      "Время Гаусс = 6.0802s, NumPy = 0.0179s\n",
      "ОК\n",
      "\n",
      "1000x1000\n",
      "Максимальная абсолютная погрешность: 2.22e-12\n",
      "Время Гаусс = 9.8460s, NumPy = 0.0359s\n",
      "ОК\n"
     ]
    }
   ],
   "execution_count": 154
  }
 ],
 "metadata": {
  "kernelspec": {
   "display_name": "Python 3",
   "language": "python",
   "name": "python3"
  },
  "language_info": {
   "codemirror_mode": {
    "name": "ipython",
    "version": 2
   },
   "file_extension": ".py",
   "mimetype": "text/x-python",
   "name": "python",
   "nbconvert_exporter": "python",
   "pygments_lexer": "ipython2",
   "version": "2.7.6"
  }
 },
 "nbformat": 4,
 "nbformat_minor": 5
}
